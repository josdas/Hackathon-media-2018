{
 "cells": [
  {
   "cell_type": "code",
   "execution_count": 1,
   "metadata": {
    "collapsed": true
   },
   "outputs": [],
   "source": [
    "import sys\n",
    "sys.path.insert(0, r'../..')"
   ]
  },
  {
   "cell_type": "code",
   "execution_count": 2,
   "metadata": {
    "collapsed": true
   },
   "outputs": [],
   "source": [
    "%matplotlib inline\n",
    "import warnings\n",
    "warnings.filterwarnings('ignore')\n",
    "from matplotlib import pyplot as plt\n",
    "import seaborn as sns\n",
    "import pandas as pd\n",
    "import numpy as np\n",
    "import imageio\n",
    "from tqdm import tqdm_notebook as tqdm"
   ]
  },
  {
   "cell_type": "code",
   "execution_count": 3,
   "metadata": {
    "collapsed": true
   },
   "outputs": [],
   "source": [
    "from lib.video import *"
   ]
  },
  {
   "cell_type": "code",
   "execution_count": 4,
   "metadata": {
    "collapsed": true
   },
   "outputs": [],
   "source": [
    "TEST_VIDEO = '../../data/test/resized_645001_5.mp4'"
   ]
  },
  {
   "cell_type": "code",
   "execution_count": 40,
   "metadata": {
    "collapsed": true
   },
   "outputs": [],
   "source": [
    "SHAPE_VIDEO = next(get_reader(TEST_VIDEO)).shape\n",
    "FRAME_RATE = 4\n",
    "SKIP = 0\n",
    "SIZE = None\n",
    "GOOD_COLORS = [0, 1, 2]"
   ]
  },
  {
   "cell_type": "code",
   "execution_count": 41,
   "metadata": {
    "collapsed": true
   },
   "outputs": [],
   "source": [
    "def calc_green_pixels(frame):\n",
    "    frame = frame.astype('float')\n",
    "    return frame[:, :, 1] * 1 > frame[:, :, 0] + frame[:, :, 2]\n",
    "\n",
    "\n",
    "def calc_green_counts(path):\n",
    "    total = 0\n",
    "    mask = np.zeros(SHAPE_VIDEO[:2])\n",
    "    for frame in tqdm(get_reader(path, FRAME_RATE, skip=SKIP, size=SIZE),\n",
    "                      total=get_total_len(TEST_VIDEO, FRAME_RATE, skip=SKIP, size=SIZE)):\n",
    "        mask += calc_green_pixels(frame)\n",
    "        total += 1\n",
    "    return mask / total"
   ]
  },
  {
   "cell_type": "code",
   "execution_count": 42,
   "metadata": {},
   "outputs": [
    {
     "data": {
      "application/vnd.jupyter.widget-view+json": {
       "model_id": "244782b409c64eb4b28c6bf45e52c130",
       "version_major": 2,
       "version_minor": 0
      },
      "text/plain": [
       "A Jupyter Widget"
      ]
     },
     "metadata": {},
     "output_type": "display_data"
    },
    {
     "name": "stdout",
     "output_type": "stream",
     "text": [
      "\n"
     ]
    }
   ],
   "source": [
    "green_counts = calc_green_counts(TEST_VIDEO)"
   ]
  },
  {
   "cell_type": "code",
   "execution_count": 43,
   "metadata": {
    "collapsed": true
   },
   "outputs": [],
   "source": [
    "def extract_green_mask(green_counts, threshold=0.24):\n",
    "    return green_counts < threshold"
   ]
  },
  {
   "cell_type": "code",
   "execution_count": 44,
   "metadata": {
    "collapsed": true
   },
   "outputs": [],
   "source": [
    "def clean_borders(mask, size=4):\n",
    "    mask = mask.copy()\n",
    "    h, w = mask.shape[:2]\n",
    "    borders = np.ones_like(mask)\n",
    "    borders[size:-size, size:-size] = 0\n",
    "    mask[borders] = 0\n",
    "    return mask"
   ]
  },
  {
   "cell_type": "code",
   "execution_count": 45,
   "metadata": {
    "collapsed": true
   },
   "outputs": [],
   "source": [
    "def search_best_green_threshold(green_counts, proportion=0.01):\n",
    "    last = 0\n",
    "    for gt in np.linspace(0, 1, 15):\n",
    "        mask = extract_green_mask(green_counts, gt)\n",
    "        if mask.mean() > proportion:\n",
    "            return gt"
   ]
  },
  {
   "cell_type": "code",
   "execution_count": 48,
   "metadata": {},
   "outputs": [
    {
     "data": {
      "image/png": "[encoded data removed]",
      "text/plain": [
       "<matplotlib.figure.Figure at 0x7fd1702cde48>"
      ]
     },
     "metadata": {},
     "output_type": "display_data"
    }
   ],
   "source": [
    "green_threshold = search_best_green_threshold(green_counts, proportion=0.02)\n",
    "ui_mask = extract_green_mask(green_counts, green_threshold)\n",
    "ui_mask = clean_borders(ui_mask)\n",
    "show_img(ui_mask)"
   ]
  },
  {
   "cell_type": "code",
   "execution_count": 30,
   "metadata": {
    "collapsed": true
   },
   "outputs": [],
   "source": [
    "def transfrom_color(color, k=8):\n",
    "    return tuple(color // k * k)"
   ]
  },
  {
   "cell_type": "code",
   "execution_count": 31,
   "metadata": {},
   "outputs": [
    {
     "data": {
      "application/vnd.jupyter.widget-view+json": {
       "model_id": "9a8c080266d0489fa6a1817052dd4663",
       "version_major": 2,
       "version_minor": 0
      },
      "text/plain": [
       "A Jupyter Widget"
      ]
     },
     "metadata": {},
     "output_type": "display_data"
    },
    {
     "name": "stdout",
     "output_type": "stream",
     "text": [
      "\n"
     ]
    }
   ],
   "source": [
    "from collections import defaultdict, Counter\n",
    "\n",
    "good_colors = defaultdict(Counter)\n",
    "total = 0\n",
    "for frame in tqdm(get_reader(TEST_VIDEO, FRAME_RATE, skip=SKIP, size=SIZE),\n",
    "                  total=get_total_len(TEST_VIDEO, FRAME_RATE, skip=SKIP, size=SIZE)):\n",
    "    for i in range(ui_mask.shape[0]):\n",
    "        for j in range(ui_mask.shape[1]):\n",
    "            if ui_mask[i, j]:\n",
    "                good_colors[i, j][transfrom_color(frame[i, j])] += 1\n",
    "    total += 1"
   ]
  },
  {
   "cell_type": "code",
   "execution_count": 32,
   "metadata": {
    "collapsed": true
   },
   "outputs": [],
   "source": [
    "def search_best_static_thershold(n):\n",
    "    return 60 * 90 / (n * FRAME_RATE) + 0.1"
   ]
  },
  {
   "cell_type": "code",
   "execution_count": 33,
   "metadata": {},
   "outputs": [
    {
     "name": "stdout",
     "output_type": "stream",
     "text": [
      "0.8580011229646266\n"
     ]
    },
    {
     "data": {
      "image/png": "[encoded data removed]",
      "text/plain": [
       "<matplotlib.figure.Figure at 0x7fd171b24208>"
      ]
     },
     "metadata": {},
     "output_type": "display_data"
    }
   ],
   "source": [
    "N_TOP_COLORS = 100\n",
    "static_thershold = search_best_static_thershold(get_total_len(TEST_VIDEO, FRAME_RATE, skip=SKIP, size=None))\n",
    "print(static_thershold)\n",
    "nmask = np.zeros_like(ui_mask)\n",
    "for pixel, counter in good_colors.items():\n",
    "    mc = counter.most_common(N_TOP_COLORS)\n",
    "    prob = sum(v for k, v in mc) / sum(v for k, v in counter.items())\n",
    "    if prob > static_thershold and prob < 0.9:\n",
    "        nmask[pixel] = 1\n",
    "show_img(nmask)"
   ]
  },
  {
   "cell_type": "code",
   "execution_count": 228,
   "metadata": {
    "collapsed": true
   },
   "outputs": [],
   "source": [
    "rgood_colors = {\n",
    "    pixel: {k for k, v in counter.most_common(N_TOP_COLORS)} \n",
    "    for pixel, counter in good_colors.items()\n",
    "    if nmask[pixel]\n",
    "}"
   ]
  },
  {
   "cell_type": "code",
   "execution_count": 229,
   "metadata": {
    "collapsed": true
   },
   "outputs": [],
   "source": [
    "dx = [0, 0, 1, -1, -1, 1, 1, -1]\n",
    "dy = [1, -1, 0, 0, -1, 1, -1, 1]"
   ]
  },
  {
   "cell_type": "code",
   "execution_count": 230,
   "metadata": {
    "collapsed": true
   },
   "outputs": [],
   "source": [
    "def sim_ui(frame, good_colors, mask):\n",
    "    simularity = np.zeros_like(mask, dtype='uint8')\n",
    "    for i in range(mask.shape[0]):\n",
    "        for j in range(mask.shape[1]):\n",
    "            if mask[i, j]:\n",
    "                if transfrom_color(frame[i, j]) in good_colors[i, j]:\n",
    "                    for k in range(len(dx)):\n",
    "                        p = i+dx[k], j+dy[k]\n",
    "                        if mask[p]:\n",
    "                            simularity[p] = 2\n",
    "                else:\n",
    "                    if simularity[i, j] == 0:\n",
    "                        simularity[i, j] = 1\n",
    "    sim = (simularity == 2).sum() / mask.sum()\n",
    "    return sim"
   ]
  },
  {
   "cell_type": "code",
   "execution_count": 231,
   "metadata": {
    "scrolled": true
   },
   "outputs": [
    {
     "data": {
      "application/vnd.jupyter.widget-view+json": {
       "model_id": "841a144326df4419a0625c2a49b91a7f",
       "version_major": 2,
       "version_minor": 0
      },
      "text/plain": [
       "A Jupyter Widget"
      ]
     },
     "metadata": {},
     "output_type": "display_data"
    },
    {
     "name": "stdout",
     "output_type": "stream",
     "text": [
      "\n"
     ]
    }
   ],
   "source": [
    "sims = []\n",
    "for frame in tqdm(get_reader(TEST_VIDEO, FRAME_RATE, skip=SKIP, size=SIZE),\n",
    "                  total=get_total_len(TEST_VIDEO, FRAME_RATE, skip=SKIP, size=SIZE)):\n",
    "    sim = sim_ui(frame, rgood_colors, nmask)\n",
    "    sims.append(sim)\n",
    "    if sim > 0.9 and False:\n",
    "        print(sim)\n",
    "        show_img(frame, 0.4)\n",
    "        plt.show()"
   ]
  },
  {
   "cell_type": "code",
   "execution_count": 232,
   "metadata": {},
   "outputs": [
    {
     "data": {
      "text/plain": [
       "0.87234042553191493"
      ]
     },
     "execution_count": 232,
     "metadata": {},
     "output_type": "execute_result"
    }
   ],
   "source": [
    "np.percentile(sims, 30)"
   ]
  },
  {
   "cell_type": "code",
   "execution_count": 242,
   "metadata": {
    "collapsed": true
   },
   "outputs": [],
   "source": [
    "def ui_filter(ui_prob, l, r):\n",
    "    data = np.array(ui_prob)\n",
    "    data[data >r] = 1\n",
    "    data[data <l] = -1\n",
    "    data[np.abs(data) < 1] = 0\n",
    "    return data"
   ]
  },
  {
   "cell_type": "code",
   "execution_count": 248,
   "metadata": {},
   "outputs": [
    {
     "data": {
      "text/plain": [
       "[<matplotlib.lines.Line2D at 0x7f601ada64a8>]"
      ]
     },
     "execution_count": 248,
     "metadata": {},
     "output_type": "execute_result"
    },
    {
     "data": {
      "image/png": "[encoded data removed]",
      "text/plain": [
       "<matplotlib.figure.Figure at 0x7f602831c860>"
      ]
     },
     "metadata": {},
     "output_type": "display_data"
    }
   ],
   "source": [
    "fig, ax = plt.subplots(figsize=(20, 5))\n",
    "ax.plot(ui_filter(sims, 0.1, 0.1))"
   ]
  },
  {
   "cell_type": "code",
   "execution_count": null,
   "metadata": {
    "collapsed": true
   },
   "outputs": [],
   "source": [
    "def find_start(sims, frame_rate):\n",
    "    l =  45 * 60 // frame_rate\n",
    "    n = len(sims)\n",
    "    pref = np.cumsum(np.array(sims) > 0.85)\n",
    "    mx = -1\n",
    "    best_l1, best_l2 = -1, -1\n",
    "    for l1 in range(n - l):\n",
    "        for l2 in range(l1 + l, n - l):\n",
    "            s1, s2 = pref[l1 + l] - pref[l1], pref[l2 + l] - pref[l2]\n",
    "            s = s1 + s2\n",
    "            if mx < s1 + s2:\n",
    "                mx = s1 + s2\n",
    "                best_l1, best_l2 = l1, l2\n",
    "    return best_l1 * frame_rate, best_l2 * frame_rate"
   ]
  },
  {
   "cell_type": "code",
   "execution_count": null,
   "metadata": {
    "collapsed": true
   },
   "outputs": [],
   "source": [
    "find_start(sims, 4)"
   ]
  },
  {
   "cell_type": "code",
   "execution_count": null,
   "metadata": {
    "collapsed": true
   },
   "outputs": [],
   "source": []
  }
 ],
 "metadata": {
  "kernelspec": {
   "display_name": "Python [conda env:anaconda3]",
   "language": "python",
   "name": "conda-env-anaconda3-py"
  },
  "language_info": {
   "codemirror_mode": {
    "name": "ipython",
    "version": 3
   },
   "file_extension": ".py",
   "mimetype": "text/x-python",
   "name": "python",
   "nbconvert_exporter": "python",
   "pygments_lexer": "ipython3",
   "version": "3.6.4"
  }
 },
 "nbformat": 4,
 "nbformat_minor": 2
}
