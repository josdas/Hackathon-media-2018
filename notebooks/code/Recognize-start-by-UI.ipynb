{
 "cells": [
  {
   "cell_type": "code",
   "execution_count": 1,
   "metadata": {},
   "outputs": [],
   "source": [
    "%load_ext autoreload\n",
    "%autoreload 2"
   ]
  },
  {
   "cell_type": "code",
   "execution_count": 2,
   "metadata": {},
   "outputs": [],
   "source": [
    "import sys\n",
    "sys.path.insert(0, r'../..')\n",
    "%matplotlib inline\n",
    "import warnings\n",
    "warnings.filterwarnings('ignore')\n",
    "from matplotlib import pyplot as plt\n",
    "import seaborn as sns\n",
    "import pandas as pd\n",
    "import numpy as np\n",
    "import imageio\n",
    "import pickle\n",
    "import os\n",
    "from tqdm import tqdm_notebook as tqdm\n",
    "\n",
    "from lib.video import *\n",
    "from lib.utils import convert_time, start_table_to_dict, cur_frame, cur_time"
   ]
  },
  {
   "cell_type": "code",
   "execution_count": 3,
   "metadata": {},
   "outputs": [
    {
     "name": "stdout",
     "output_type": "stream",
     "text": [
      "Use tqdm_notebook\n"
     ]
    }
   ],
   "source": [
    "from src.time_extractor import generate_static_mask, generate_green_mask"
   ]
  },
  {
   "cell_type": "code",
   "execution_count": 44,
   "metadata": {},
   "outputs": [],
   "source": [
    "UI_REAL = '../../data/train/real_start_train.csv'\n",
    "UI_PREDICTION = '../../output/features/games_starts_train.csv'\n",
    "VIDEO_DIR = '../../data/train/'\n",
    "VIDEO = '645001_5.mp4'\n",
    "VIDEO_PATH = VIDEO_DIR + 'resized_' + VIDEO\n",
    "NONE_TYPE = 'NONE'\n",
    "FULL_EVENT_TABLE = '../../data/test/' + 'events.csv'\n",
    "GOOD_EVENTS = ['желтая карточка', 'гол', 'замена']"
   ]
  },
  {
   "cell_type": "code",
   "execution_count": 21,
   "metadata": {
    "scrolled": true
   },
   "outputs": [
    {
     "data": {
      "text/html": [
       "<div>\n",
       "<style scoped>\n",
       "    .dataframe tbody tr th:only-of-type {\n",
       "        vertical-align: middle;\n",
       "    }\n",
       "\n",
       "    .dataframe tbody tr th {\n",
       "        vertical-align: top;\n",
       "    }\n",
       "\n",
       "    .dataframe thead th {\n",
       "        text-align: right;\n",
       "    }\n",
       "</style>\n",
       "<table border=\"1\" class=\"dataframe\">\n",
       "  <thead>\n",
       "    <tr style=\"text-align: right;\">\n",
       "      <th></th>\n",
       "      <th>file_name</th>\n",
       "      <th>first_ui_start</th>\n",
       "      <th>first_ui_end</th>\n",
       "      <th>second_ui_start</th>\n",
       "      <th>second_ui_end</th>\n",
       "    </tr>\n",
       "  </thead>\n",
       "  <tbody>\n",
       "    <tr>\n",
       "      <th>1</th>\n",
       "      <td>resized_641579_3.mp4</td>\n",
       "      <td>0:56</td>\n",
       "      <td>1:01</td>\n",
       "      <td>1:05:16</td>\n",
       "      <td>1:05:21</td>\n",
       "    </tr>\n",
       "    <tr>\n",
       "      <th>7</th>\n",
       "      <td>resized_639900_5.mp4</td>\n",
       "      <td>16:28</td>\n",
       "      <td>16:37</td>\n",
       "      <td>1:20:40</td>\n",
       "      <td>1:20:47</td>\n",
       "    </tr>\n",
       "    <tr>\n",
       "      <th>8</th>\n",
       "      <td>resized_639919_5.mp4</td>\n",
       "      <td>16:29</td>\n",
       "      <td>16:36</td>\n",
       "      <td>1:19:40</td>\n",
       "      <td>1:19:47</td>\n",
       "    </tr>\n",
       "    <tr>\n",
       "      <th>9</th>\n",
       "      <td>resized_639933_5.mp4</td>\n",
       "      <td>15:27</td>\n",
       "      <td>15:33</td>\n",
       "      <td>1:16:36</td>\n",
       "      <td>1:16:41</td>\n",
       "    </tr>\n",
       "    <tr>\n",
       "      <th>10</th>\n",
       "      <td>resized_639939_5.mp4</td>\n",
       "      <td>18:06</td>\n",
       "      <td>18:11</td>\n",
       "      <td>1:20:46</td>\n",
       "      <td>1:20:53</td>\n",
       "    </tr>\n",
       "    <tr>\n",
       "      <th>11</th>\n",
       "      <td>resized_640085_5.mp4</td>\n",
       "      <td>17:02</td>\n",
       "      <td>17:09</td>\n",
       "      <td>1:21:05</td>\n",
       "      <td>1:21:11</td>\n",
       "    </tr>\n",
       "    <tr>\n",
       "      <th>12</th>\n",
       "      <td>resized_640196_5.mp4</td>\n",
       "      <td>15:29</td>\n",
       "      <td>15:36</td>\n",
       "      <td>1:19:00</td>\n",
       "      <td>1:19:06</td>\n",
       "    </tr>\n",
       "  </tbody>\n",
       "</table>\n",
       "</div>"
      ],
      "text/plain": [
       "               file_name first_ui_start first_ui_end second_ui_start  \\\n",
       "1   resized_641579_3.mp4           0:56         1:01         1:05:16   \n",
       "7   resized_639900_5.mp4          16:28        16:37         1:20:40   \n",
       "8   resized_639919_5.mp4          16:29        16:36         1:19:40   \n",
       "9   resized_639933_5.mp4          15:27        15:33         1:16:36   \n",
       "10  resized_639939_5.mp4          18:06        18:11         1:20:46   \n",
       "11  resized_640085_5.mp4          17:02        17:09         1:21:05   \n",
       "12  resized_640196_5.mp4          15:29        15:36         1:19:00   \n",
       "\n",
       "   second_ui_end  \n",
       "1        1:05:21  \n",
       "7        1:20:47  \n",
       "8        1:19:47  \n",
       "9        1:16:41  \n",
       "10       1:20:53  \n",
       "11       1:21:11  \n",
       "12       1:19:06  "
      ]
     },
     "execution_count": 21,
     "metadata": {},
     "output_type": "execute_result"
    }
   ],
   "source": [
    "full_event_table = pd.read_csv(UI_REAL)\\\n",
    "    .drop([\"first_start\", \"first_end\", \"second_start\", \"second_end\"], axis=1)\\\n",
    "    .dropna()\n",
    "#full_event_table = full_event_table[full_event_table['event_type'].isin(GOOD_EVENTS)]\n",
    "full_event_table"
   ]
  },
  {
   "cell_type": "code",
   "execution_count": 49,
   "metadata": {},
   "outputs": [
    {
     "data": {
      "text/plain": [
       "'resized_641579_3.mp4,resized_639900_5.mp4,resized_639919_5.mp4,resized_639933_5.mp4,resized_639939_5.mp4,resized_640085_5.mp4,resized_640196_5.mp4'"
      ]
     },
     "execution_count": 49,
     "metadata": {},
     "output_type": "execute_result"
    }
   ],
   "source": [
    "FILES = full_event_table['file_name'].unique()\n",
    "','.join(FILES)"
   ]
  },
  {
   "cell_type": "code",
   "execution_count": 7,
   "metadata": {
    "collapsed": true
   },
   "outputs": [
    {
     "ename": "FileNotFoundError",
     "evalue": "No such file: '/home/wafemand/projs/Hackathon-media-2018/data/test/resized_645001_5.mp4'",
     "output_type": "error",
     "traceback": [
      "\u001b[0;31m---------------------------------------------------------------------------\u001b[0m",
      "\u001b[0;31mFileNotFoundError\u001b[0m                         Traceback (most recent call last)",
      "\u001b[0;32m<ipython-input-7-76ceb29ce428>\u001b[0m in \u001b[0;36m<module>\u001b[0;34m()\u001b[0m\n\u001b[0;32m----> 1\u001b[0;31m \u001b[0mgreen_mask\u001b[0m \u001b[0;34m=\u001b[0m \u001b[0mgenerate_green_mask\u001b[0m\u001b[0;34m(\u001b[0m\u001b[0mVIDEO_PATH\u001b[0m\u001b[0;34m,\u001b[0m \u001b[0mproportion\u001b[0m\u001b[0;34m=\u001b[0m\u001b[0;36m0.02\u001b[0m\u001b[0;34m)\u001b[0m\u001b[0;34m\u001b[0m\u001b[0m\n\u001b[0m\u001b[1;32m      2\u001b[0m \u001b[0mshow_img\u001b[0m\u001b[0;34m(\u001b[0m\u001b[0mgreen_mask\u001b[0m\u001b[0;34m)\u001b[0m\u001b[0;34m\u001b[0m\u001b[0m\n",
      "\u001b[0;32m~/projs/Hackathon-media-2018/src/time_extractor.py\u001b[0m in \u001b[0;36mgenerate_green_mask\u001b[0;34m(path, proportion)\u001b[0m\n\u001b[1;32m    140\u001b[0m \u001b[0;34m\u001b[0m\u001b[0m\n\u001b[1;32m    141\u001b[0m \u001b[0;32mdef\u001b[0m \u001b[0mgenerate_green_mask\u001b[0m\u001b[0;34m(\u001b[0m\u001b[0mpath\u001b[0m\u001b[0;34m,\u001b[0m \u001b[0mproportion\u001b[0m\u001b[0;34m)\u001b[0m\u001b[0;34m:\u001b[0m\u001b[0;34m\u001b[0m\u001b[0m\n\u001b[0;32m--> 142\u001b[0;31m     \u001b[0mgreen_counts\u001b[0m \u001b[0;34m=\u001b[0m \u001b[0mcalc_green_counts\u001b[0m\u001b[0;34m(\u001b[0m\u001b[0mpath\u001b[0m\u001b[0;34m)\u001b[0m\u001b[0;34m\u001b[0m\u001b[0m\n\u001b[0m\u001b[1;32m    143\u001b[0m     \u001b[0mgreen_threshold\u001b[0m \u001b[0;34m=\u001b[0m \u001b[0msearch_best_green_threshold\u001b[0m\u001b[0;34m(\u001b[0m\u001b[0mgreen_counts\u001b[0m\u001b[0;34m,\u001b[0m \u001b[0mproportion\u001b[0m\u001b[0;34m=\u001b[0m\u001b[0mproportion\u001b[0m\u001b[0;34m)\u001b[0m\u001b[0;34m\u001b[0m\u001b[0m\n\u001b[1;32m    144\u001b[0m     \u001b[0mgreen_mask\u001b[0m \u001b[0;34m=\u001b[0m \u001b[0mextract_green_mask\u001b[0m\u001b[0;34m(\u001b[0m\u001b[0mgreen_counts\u001b[0m\u001b[0;34m,\u001b[0m \u001b[0mgreen_threshold\u001b[0m\u001b[0;34m)\u001b[0m\u001b[0;34m\u001b[0m\u001b[0m\n",
      "\u001b[0;32m~/projs/Hackathon-media-2018/src/time_extractor.py\u001b[0m in \u001b[0;36mcalc_green_counts\u001b[0;34m(path)\u001b[0m\n\u001b[1;32m     39\u001b[0m \u001b[0;32mdef\u001b[0m \u001b[0mcalc_green_counts\u001b[0m\u001b[0;34m(\u001b[0m\u001b[0mpath\u001b[0m\u001b[0;34m)\u001b[0m\u001b[0;34m:\u001b[0m\u001b[0;34m\u001b[0m\u001b[0m\n\u001b[1;32m     40\u001b[0m     \u001b[0mtotal\u001b[0m \u001b[0;34m=\u001b[0m \u001b[0;36m0\u001b[0m\u001b[0;34m\u001b[0m\u001b[0m\n\u001b[0;32m---> 41\u001b[0;31m     \u001b[0mcounts\u001b[0m \u001b[0;34m=\u001b[0m \u001b[0mnp\u001b[0m\u001b[0;34m.\u001b[0m\u001b[0mzeros\u001b[0m\u001b[0;34m(\u001b[0m\u001b[0mget_video_shape\u001b[0m\u001b[0;34m(\u001b[0m\u001b[0mpath\u001b[0m\u001b[0;34m)\u001b[0m\u001b[0;34m)\u001b[0m\u001b[0;34m\u001b[0m\u001b[0m\n\u001b[0m\u001b[1;32m     42\u001b[0m     \u001b[0;32mfor\u001b[0m \u001b[0mframe\u001b[0m \u001b[0;32min\u001b[0m \u001b[0mcreate_video_iter\u001b[0m\u001b[0;34m(\u001b[0m\u001b[0mpath\u001b[0m\u001b[0;34m)\u001b[0m\u001b[0;34m:\u001b[0m\u001b[0;34m\u001b[0m\u001b[0m\n\u001b[1;32m     43\u001b[0m         \u001b[0mcounts\u001b[0m \u001b[0;34m+=\u001b[0m \u001b[0mcalc_green_pixels\u001b[0m\u001b[0;34m(\u001b[0m\u001b[0mframe\u001b[0m\u001b[0;34m)\u001b[0m\u001b[0;34m\u001b[0m\u001b[0m\n",
      "\u001b[0;32m~/projs/Hackathon-media-2018/lib/video.py\u001b[0m in \u001b[0;36mget_video_shape\u001b[0;34m(path)\u001b[0m\n\u001b[1;32m     24\u001b[0m \u001b[0;34m\u001b[0m\u001b[0m\n\u001b[1;32m     25\u001b[0m \u001b[0;32mdef\u001b[0m \u001b[0mget_video_shape\u001b[0m\u001b[0;34m(\u001b[0m\u001b[0mpath\u001b[0m\u001b[0;34m)\u001b[0m\u001b[0;34m:\u001b[0m\u001b[0;34m\u001b[0m\u001b[0m\n\u001b[0;32m---> 26\u001b[0;31m     \u001b[0mframe\u001b[0m \u001b[0;34m=\u001b[0m \u001b[0mnext\u001b[0m\u001b[0;34m(\u001b[0m\u001b[0mget_reader\u001b[0m\u001b[0;34m(\u001b[0m\u001b[0mpath\u001b[0m\u001b[0;34m)\u001b[0m\u001b[0;34m)\u001b[0m\u001b[0;34m\u001b[0m\u001b[0m\n\u001b[0m\u001b[1;32m     27\u001b[0m     \u001b[0;32mreturn\u001b[0m \u001b[0mframe\u001b[0m\u001b[0;34m.\u001b[0m\u001b[0mshape\u001b[0m\u001b[0;34m[\u001b[0m\u001b[0;34m:\u001b[0m\u001b[0;36m2\u001b[0m\u001b[0;34m]\u001b[0m\u001b[0;34m\u001b[0m\u001b[0m\n\u001b[1;32m     28\u001b[0m \u001b[0;34m\u001b[0m\u001b[0m\n",
      "\u001b[0;32m~/projs/Hackathon-media-2018/lib/video.py\u001b[0m in \u001b[0;36mget_reader\u001b[0;34m(path, frame_rate, size, skip)\u001b[0m\n\u001b[1;32m     12\u001b[0m \u001b[0;32mdef\u001b[0m \u001b[0mget_reader\u001b[0m\u001b[0;34m(\u001b[0m\u001b[0mpath\u001b[0m\u001b[0;34m,\u001b[0m \u001b[0mframe_rate\u001b[0m\u001b[0;34m=\u001b[0m\u001b[0;36m1\u001b[0m\u001b[0;34m,\u001b[0m \u001b[0msize\u001b[0m\u001b[0;34m=\u001b[0m\u001b[0;32mNone\u001b[0m\u001b[0;34m,\u001b[0m \u001b[0mskip\u001b[0m\u001b[0;34m=\u001b[0m\u001b[0;36m0\u001b[0m\u001b[0;34m)\u001b[0m\u001b[0;34m:\u001b[0m\u001b[0;34m\u001b[0m\u001b[0m\n\u001b[1;32m     13\u001b[0m     \u001b[0mtotal\u001b[0m \u001b[0;34m=\u001b[0m \u001b[0;36m0\u001b[0m\u001b[0;34m\u001b[0m\u001b[0m\n\u001b[0;32m---> 14\u001b[0;31m     \u001b[0mn\u001b[0m \u001b[0;34m=\u001b[0m \u001b[0mget_total_len\u001b[0m\u001b[0;34m(\u001b[0m\u001b[0mpath\u001b[0m\u001b[0;34m)\u001b[0m\u001b[0;34m\u001b[0m\u001b[0m\n\u001b[0m\u001b[1;32m     15\u001b[0m     \u001b[0;32mfor\u001b[0m \u001b[0mi\u001b[0m\u001b[0;34m,\u001b[0m \u001b[0mframe\u001b[0m \u001b[0;32min\u001b[0m \u001b[0menumerate\u001b[0m\u001b[0;34m(\u001b[0m\u001b[0mimageio\u001b[0m\u001b[0;34m.\u001b[0m\u001b[0mget_reader\u001b[0m\u001b[0;34m(\u001b[0m\u001b[0mpath\u001b[0m\u001b[0;34m)\u001b[0m\u001b[0;34m.\u001b[0m\u001b[0miter_data\u001b[0m\u001b[0;34m(\u001b[0m\u001b[0;34m)\u001b[0m\u001b[0;34m)\u001b[0m\u001b[0;34m:\u001b[0m\u001b[0;34m\u001b[0m\u001b[0m\n\u001b[1;32m     16\u001b[0m         \u001b[0;32mif\u001b[0m \u001b[0mskip\u001b[0m \u001b[0;32mis\u001b[0m \u001b[0;32mnot\u001b[0m \u001b[0;32mNone\u001b[0m \u001b[0;32mand\u001b[0m \u001b[0mi\u001b[0m \u001b[0;34m<\u001b[0m \u001b[0mskip\u001b[0m \u001b[0;34m*\u001b[0m \u001b[0mn\u001b[0m\u001b[0;34m:\u001b[0m\u001b[0;34m\u001b[0m\u001b[0m\n",
      "\u001b[0;32m~/projs/Hackathon-media-2018/lib/video.py\u001b[0m in \u001b[0;36mget_total_len\u001b[0;34m(path, frame_rate, size, skip)\u001b[0m\n\u001b[1;32m      3\u001b[0m \u001b[0;34m\u001b[0m\u001b[0m\n\u001b[1;32m      4\u001b[0m \u001b[0;32mdef\u001b[0m \u001b[0mget_total_len\u001b[0m\u001b[0;34m(\u001b[0m\u001b[0mpath\u001b[0m\u001b[0;34m,\u001b[0m \u001b[0mframe_rate\u001b[0m\u001b[0;34m=\u001b[0m\u001b[0;36m1\u001b[0m\u001b[0;34m,\u001b[0m \u001b[0msize\u001b[0m\u001b[0;34m=\u001b[0m\u001b[0;32mNone\u001b[0m\u001b[0;34m,\u001b[0m \u001b[0mskip\u001b[0m\u001b[0;34m=\u001b[0m\u001b[0;36m0\u001b[0m\u001b[0;34m)\u001b[0m\u001b[0;34m:\u001b[0m\u001b[0;34m\u001b[0m\u001b[0m\n\u001b[0;32m----> 5\u001b[0;31m     \u001b[0mn\u001b[0m \u001b[0;34m=\u001b[0m \u001b[0mimageio\u001b[0m\u001b[0;34m.\u001b[0m\u001b[0mget_reader\u001b[0m\u001b[0;34m(\u001b[0m\u001b[0mpath\u001b[0m\u001b[0;34m)\u001b[0m\u001b[0;34m.\u001b[0m\u001b[0mget_meta_data\u001b[0m\u001b[0;34m(\u001b[0m\u001b[0;34m)\u001b[0m\u001b[0;34m[\u001b[0m\u001b[0;34m'nframes'\u001b[0m\u001b[0;34m]\u001b[0m\u001b[0;34m\u001b[0m\u001b[0m\n\u001b[0m\u001b[1;32m      6\u001b[0m     \u001b[0mresult\u001b[0m \u001b[0;34m=\u001b[0m \u001b[0mint\u001b[0m\u001b[0;34m(\u001b[0m\u001b[0;34m(\u001b[0m\u001b[0;36m1\u001b[0m \u001b[0;34m-\u001b[0m \u001b[0mskip\u001b[0m\u001b[0;34m)\u001b[0m \u001b[0;34m*\u001b[0m \u001b[0mn\u001b[0m \u001b[0;34m/\u001b[0m \u001b[0mframe_rate\u001b[0m\u001b[0;34m)\u001b[0m\u001b[0;34m\u001b[0m\u001b[0m\n\u001b[1;32m      7\u001b[0m     \u001b[0;32mif\u001b[0m \u001b[0msize\u001b[0m \u001b[0;32mis\u001b[0m \u001b[0;32mnot\u001b[0m \u001b[0;32mNone\u001b[0m\u001b[0;34m:\u001b[0m\u001b[0;34m\u001b[0m\u001b[0m\n",
      "\u001b[0;32m~/.local/lib/python3.5/site-packages/imageio/core/functions.py\u001b[0m in \u001b[0;36mget_reader\u001b[0;34m(uri, format, mode, **kwargs)\u001b[0m\n\u001b[1;32m    115\u001b[0m \u001b[0;34m\u001b[0m\u001b[0m\n\u001b[1;32m    116\u001b[0m     \u001b[0;31m# Create request object\u001b[0m\u001b[0;34m\u001b[0m\u001b[0;34m\u001b[0m\u001b[0m\n\u001b[0;32m--> 117\u001b[0;31m     \u001b[0mrequest\u001b[0m \u001b[0;34m=\u001b[0m \u001b[0mRequest\u001b[0m\u001b[0;34m(\u001b[0m\u001b[0muri\u001b[0m\u001b[0;34m,\u001b[0m \u001b[0;34m'r'\u001b[0m \u001b[0;34m+\u001b[0m \u001b[0mmode\u001b[0m\u001b[0;34m,\u001b[0m \u001b[0;34m**\u001b[0m\u001b[0mkwargs\u001b[0m\u001b[0;34m)\u001b[0m\u001b[0;34m\u001b[0m\u001b[0m\n\u001b[0m\u001b[1;32m    118\u001b[0m \u001b[0;34m\u001b[0m\u001b[0m\n\u001b[1;32m    119\u001b[0m     \u001b[0;31m# Get format\u001b[0m\u001b[0;34m\u001b[0m\u001b[0;34m\u001b[0m\u001b[0m\n",
      "\u001b[0;32m~/.local/lib/python3.5/site-packages/imageio/core/request.py\u001b[0m in \u001b[0;36m__init__\u001b[0;34m(self, uri, mode, **kwargs)\u001b[0m\n\u001b[1;32m    126\u001b[0m \u001b[0;34m\u001b[0m\u001b[0m\n\u001b[1;32m    127\u001b[0m         \u001b[0;31m# Parse what was given\u001b[0m\u001b[0;34m\u001b[0m\u001b[0;34m\u001b[0m\u001b[0m\n\u001b[0;32m--> 128\u001b[0;31m         \u001b[0mself\u001b[0m\u001b[0;34m.\u001b[0m\u001b[0m_parse_uri\u001b[0m\u001b[0;34m(\u001b[0m\u001b[0muri\u001b[0m\u001b[0;34m)\u001b[0m\u001b[0;34m\u001b[0m\u001b[0m\n\u001b[0m\u001b[1;32m    129\u001b[0m \u001b[0;34m\u001b[0m\u001b[0m\n\u001b[1;32m    130\u001b[0m         \u001b[0;31m# Set extension\u001b[0m\u001b[0;34m\u001b[0m\u001b[0;34m\u001b[0m\u001b[0m\n",
      "\u001b[0;32m~/.local/lib/python3.5/site-packages/imageio/core/request.py\u001b[0m in \u001b[0;36m_parse_uri\u001b[0;34m(self, uri)\u001b[0m\n\u001b[1;32m    269\u001b[0m                 \u001b[0;31m# Reading: check that the file exists (but is allowed a dir)\u001b[0m\u001b[0;34m\u001b[0m\u001b[0;34m\u001b[0m\u001b[0m\n\u001b[1;32m    270\u001b[0m                 \u001b[0;32mif\u001b[0m \u001b[0;32mnot\u001b[0m \u001b[0mos\u001b[0m\u001b[0;34m.\u001b[0m\u001b[0mpath\u001b[0m\u001b[0;34m.\u001b[0m\u001b[0mexists\u001b[0m\u001b[0;34m(\u001b[0m\u001b[0mfn\u001b[0m\u001b[0;34m)\u001b[0m\u001b[0;34m:\u001b[0m\u001b[0;34m\u001b[0m\u001b[0m\n\u001b[0;32m--> 271\u001b[0;31m                     \u001b[0;32mraise\u001b[0m \u001b[0mFileNotFoundError\u001b[0m\u001b[0;34m(\u001b[0m\u001b[0;34m\"No such file: '%s'\"\u001b[0m \u001b[0;34m%\u001b[0m \u001b[0mfn\u001b[0m\u001b[0;34m)\u001b[0m\u001b[0;34m\u001b[0m\u001b[0m\n\u001b[0m\u001b[1;32m    272\u001b[0m             \u001b[0;32melse\u001b[0m\u001b[0;34m:\u001b[0m\u001b[0;34m\u001b[0m\u001b[0m\n\u001b[1;32m    273\u001b[0m                 \u001b[0;31m# Writing: check that the directory to write to does exist\u001b[0m\u001b[0;34m\u001b[0m\u001b[0;34m\u001b[0m\u001b[0m\n",
      "\u001b[0;31mFileNotFoundError\u001b[0m: No such file: '/home/wafemand/projs/Hackathon-media-2018/data/test/resized_645001_5.mp4'"
     ]
    }
   ],
   "source": [
    "green_mask = generate_green_mask(VIDEO_PATH, proportion=0.02)\n",
    "show_img(green_mask)"
   ]
  },
  {
   "cell_type": "code",
   "execution_count": 56,
   "metadata": {},
   "outputs": [],
   "source": [
    "HL, WL, H, W = 90, 105, 110, 130\n",
    "def filter_mask(ui_mask, k=0):\n",
    "    ui_mask = ui_mask.copy()\n",
    "    mask = np.ones_like(ui_mask)\n",
    "    mask[HL:H, WL:W] = 0\n",
    "    ui_mask[mask] = 0\n",
    "    n, m = ui_mask.shape\n",
    "    mask = np.zeros_like(ui_mask)\n",
    "    for x in np.arange(k, n-k):\n",
    "        for y in np.arange(k, m-k):\n",
    "            for dx in np.arange(-k, k+1):\n",
    "                for dy in np.arange(-k, k+1):\n",
    "                    if ui_mask[x+dx][y+dy]:\n",
    "                        mask[x][y] = 1\n",
    "    ui_mask[mask] = 1\n",
    "    return ui_mask"
   ]
  },
  {
   "cell_type": "code",
   "execution_count": 58,
   "metadata": {},
   "outputs": [
    {
     "data": {
      "text/plain": [
       "610"
      ]
     },
     "execution_count": 58,
     "metadata": {},
     "output_type": "execute_result"
    }
   ],
   "source": [
    "def get_i_frame(filename, i_frame):\n",
    "    for i, frame in enumerate(imageio.get_reader(filename)):\n",
    "        if i == i_frame:\n",
    "            return frame\n",
    "\n",
    "#frame = get_i_frame(VIDEO_DIR + \"resized_645001_5.mp4\", 374)\n",
    "#show_img(frame)\n",
    "frame.shape\n",
    "convert_time(\"10:10\")"
   ]
  },
  {
   "cell_type": "code",
   "execution_count": 68,
   "metadata": {},
   "outputs": [
    {
     "data": {
      "image/png": "[encoded data removed]",
      "text/plain": [
       "<Figure size 1296x1440 with 1 Axes>"
      ]
     },
     "metadata": {},
     "output_type": "display_data"
    },
    {
     "data": {
      "image/png": "[encoded data removed]",
      "text/plain": [
       "<Figure size 1296x1440 with 1 Axes>"
      ]
     },
     "metadata": {},
     "output_type": "display_data"
    },
    {
     "data": {
      "image/png": "[encoded data removed]",
      "text/plain": [
       "<Figure size 1296x1440 with 1 Axes>"
      ]
     },
     "metadata": {},
     "output_type": "display_data"
    },
    {
     "data": {
      "image/png": "[encoded data removed]",
      "text/plain": [
       "<Figure size 1296x1440 with 1 Axes>"
      ]
     },
     "metadata": {},
     "output_type": "display_data"
    },
    {
     "data": {
      "image/png": "[encoded data removed]",
      "text/plain": [
       "<Figure size 1296x1440 with 1 Axes>"
      ]
     },
     "metadata": {},
     "output_type": "display_data"
    },
    {
     "data": {
      "image/png": "[encoded data removed]",
      "text/plain": [
       "<Figure size 1296x1440 with 1 Axes>"
      ]
     },
     "metadata": {},
     "output_type": "display_data"
    },
    {
     "data": {
      "image/png": "[encoded data removed]",
      "text/plain": [
       "<Figure size 1296x1440 with 1 Axes>"
      ]
     },
     "metadata": {},
     "output_type": "display_data"
    }
   ],
   "source": [
    "def gen_const_mask():\n",
    "    mask = np.zeros((120, 240), 'bool')\n",
    "    mask[94:101, 112:128] = True\n",
    "    #mask[5:30, 20:50] = True\n",
    "    #mask[10:20, 20:35] = True\n",
    "    return mask\n",
    "\n",
    "\n",
    "def gen_const_mask3():\n",
    "    mask = np.zeros((120, 240, 3), 'bool')\n",
    "    mask[94:101, 112:128] = np.ones(3, 'bool')\n",
    "    #mask[5:30, 20:50] = True\n",
    "    #mask[10:20, 20:35] = True\n",
    "    return mask\n",
    "\n",
    "\n",
    "UI_MASK = gen_const_mask()\n",
    "\n",
    "for _, row in full_event_table.iterrows():\n",
    "    frame = get_i_frame(VIDEO_DIR + row.file_name, convert_time(row.second_ui_start) + 3)\n",
    "    show_img(frame*gen_const_mask3())\n",
    "#UI_MASK.shape"
   ]
  },
  {
   "cell_type": "code",
   "execution_count": 118,
   "metadata": {
    "collapsed": true
   },
   "outputs": [
    {
     "data": {
      "image/png": "[encoded data removed]",
      "text/plain": [
       "<matplotlib.figure.Figure at 0x7f4ae4d91748>"
      ]
     },
     "metadata": {},
     "output_type": "display_data"
    }
   ],
   "source": [
    "UI_MASK = filter_mask(green_mask, 4)\n",
    "show_img(UI_MASK)"
   ]
  },
  {
   "cell_type": "code",
   "execution_count": 69,
   "metadata": {},
   "outputs": [],
   "source": [
    "def preproc_same(frame):\n",
    "    frame = np.array(frame, dtype='float')\n",
    "    return frame"
   ]
  },
  {
   "cell_type": "code",
   "execution_count": 70,
   "metadata": {},
   "outputs": [],
   "source": [
    "def preproc_mask(frame):\n",
    "    frame = np.array(frame, dtype='float')\n",
    "    frame[~UI_MASK] = 0\n",
    "    frame = frame[HL:H, WL:W]\n",
    "    return frame"
   ]
  },
  {
   "cell_type": "code",
   "execution_count": 71,
   "metadata": {},
   "outputs": [],
   "source": [
    "PREPROC_FUN = preproc_mask\n",
    "IS_FLATTEN = True\n",
    "NONK = 20\n",
    "NN = 1000"
   ]
  },
  {
   "cell_type": "code",
   "execution_count": 72,
   "metadata": {},
   "outputs": [],
   "source": [
    "def show_event_imgs(file_name):\n",
    "    path = VIDEO_DIR + file_name\n",
    "    n_frame = get_total_len(path)\n",
    "    events_type = [None] * n_frame\n",
    "    for _, row in full_event_table.iterrows():\n",
    "        if row.file_name != file_name:\n",
    "            continue\n",
    "            \n",
    "        def proc(l, r, event_type):\n",
    "            print(event_type, (l, r), r-l+1)\n",
    "            for i in range(l, r+1):\n",
    "                events_type[i] = event_type\n",
    "        \n",
    "        l, r = convert_time(row.first_ui_start)+3, convert_time(row.first_ui_end)-2\n",
    "        l2, r2 = convert_time(row.second_ui_start)+3, convert_time(row.second_ui_end)-2\n",
    "        proc(l, r, \"first\")\n",
    "        proc(l2, r2, \"second\")\n",
    "        \n",
    "    for frame, event_type in tqdm(zip(get_reader(path), events_type)):\n",
    "        frame = PREPROC_FUN(frame)\n",
    "        if event_type is not None:\n",
    "            show_img(frame.astype('uint8'), k=0.5)\n",
    "            plt.show()"
   ]
  },
  {
   "cell_type": "code",
   "execution_count": 73,
   "metadata": {
    "scrolled": true
   },
   "outputs": [
    {
     "name": "stdout",
     "output_type": "stream",
     "text": [
      "first (59, 59) 1\n",
      "second (3919, 3919) 1\n"
     ]
    },
    {
     "data": {
      "application/vnd.jupyter.widget-view+json": {
       "model_id": "9d157cf3d420467282500fe114a69683",
       "version_major": 2,
       "version_minor": 0
      },
      "text/plain": [
       "HBox(children=(IntProgress(value=1, bar_style='info', max=1), HTML(value='')))"
      ]
     },
     "metadata": {},
     "output_type": "display_data"
    },
    {
     "data": {
      "image/png": "[encoded data removed]",
      "text/plain": [
       "<Figure size 648x720 with 1 Axes>"
      ]
     },
     "metadata": {},
     "output_type": "display_data"
    },
    {
     "data": {
      "image/png": "[encoded data removed]",
      "text/plain": [
       "<Figure size 648x720 with 1 Axes>"
      ]
     },
     "metadata": {},
     "output_type": "display_data"
    },
    {
     "name": "stdout",
     "output_type": "stream",
     "text": [
      "\n"
     ]
    }
   ],
   "source": [
    "show_event_imgs(FILES[0])"
   ]
  },
  {
   "cell_type": "code",
   "execution_count": 74,
   "metadata": {
    "scrolled": true
   },
   "outputs": [
    {
     "name": "stdout",
     "output_type": "stream",
     "text": [
      "first (991, 995) 5\n",
      "second (4843, 4845) 3\n"
     ]
    },
    {
     "data": {
      "application/vnd.jupyter.widget-view+json": {
       "model_id": "8a2c467d05644cf1b653c58ab4ac1626",
       "version_major": 2,
       "version_minor": 0
      },
      "text/plain": [
       "HBox(children=(IntProgress(value=1, bar_style='info', max=1), HTML(value='')))"
      ]
     },
     "metadata": {},
     "output_type": "display_data"
    },
    {
     "data": {
      "image/png": "[encoded data removed]",
      "text/plain": [
       "<Figure size 648x720 with 1 Axes>"
      ]
     },
     "metadata": {},
     "output_type": "display_data"
    },
    {
     "data": {
      "image/png": "[encoded data removed]",
      "text/plain": [
       "<Figure size 648x720 with 1 Axes>"
      ]
     },
     "metadata": {},
     "output_type": "display_data"
    },
    {
     "data": {
      "image/png": "[encoded data removed]",
      "text/plain": [
       "<Figure size 648x720 with 1 Axes>"
      ]
     },
     "metadata": {},
     "output_type": "display_data"
    },
    {
     "data": {
      "image/png": "[encoded data removed]",
      "text/plain": [
       "<Figure size 648x720 with 1 Axes>"
      ]
     },
     "metadata": {},
     "output_type": "display_data"
    },
    {
     "data": {
      "image/png": "[encoded data removed]",
      "text/plain": [
       "<Figure size 648x720 with 1 Axes>"
      ]
     },
     "metadata": {},
     "output_type": "display_data"
    },
    {
     "data": {
      "image/png": "[encoded data removed]",
      "text/plain": [
       "<Figure size 648x720 with 1 Axes>"
      ]
     },
     "metadata": {},
     "output_type": "display_data"
    },
    {
     "data": {
      "image/png": "[encoded data removed]",
      "text/plain": [
       "<Figure size 648x720 with 1 Axes>"
      ]
     },
     "metadata": {},
     "output_type": "display_data"
    },
    {
     "data": {
      "image/png": "[encoded data removed]",
      "text/plain": [
       "<Figure size 648x720 with 1 Axes>"
      ]
     },
     "metadata": {},
     "output_type": "display_data"
    },
    {
     "name": "stdout",
     "output_type": "stream",
     "text": [
      "\n"
     ]
    }
   ],
   "source": [
    "show_event_imgs(FILES[1])"
   ]
  },
  {
   "cell_type": "code",
   "execution_count": 81,
   "metadata": {},
   "outputs": [],
   "source": [
    "def create_Xy(file_name):\n",
    "    path = VIDEO_DIR + file_name\n",
    "    n_frame = get_total_len(path)\n",
    "    events_type = [None] * n_frame\n",
    "    for _, row in full_event_table.iterrows():\n",
    "        if row.file_name != file_name:\n",
    "            continue\n",
    "        \n",
    "        def proc(l, r, event_type):\n",
    "            print(event_type, (l, r), r-l+1)\n",
    "            for i in range(l, r+1):\n",
    "                events_type[i] = event_type\n",
    "        \n",
    "        l, r = convert_time(row.first_ui_start)+3, convert_time(row.first_ui_end)-1\n",
    "        l2, r2 = convert_time(row.second_ui_start)+3, convert_time(row.second_ui_end)-1\n",
    "        proc(l, r, \"score\")\n",
    "        proc(l2, r2, \"score\")\n",
    "        \n",
    "        \"\"\"if row.file_name != file_name:\n",
    "            continue\n",
    "        l, r = convert_time(row.event_time)+2, convert_time(row.event_end)-1\n",
    "        for i in range(l, r+1):\n",
    "            events_type[i] = row.event_type\"\"\"\n",
    "    X, y = [], []\n",
    "    bad_pairs = []\n",
    "    shape_frame = ()\n",
    "    for frame, event_type in tqdm(zip(get_reader(path), events_type)):\n",
    "        frame = PREPROC_FUN(frame)\n",
    "        shape_frame = frame.shape\n",
    "        if IS_FLATTEN:\n",
    "            frame = frame.reshape((-1))\n",
    "        if event_type is None:\n",
    "            bad_pairs.append((frame, NONE_TYPE))\n",
    "        else:\n",
    "            y.append(event_type)\n",
    "            X.append(frame)\n",
    "    print(shape_frame)\n",
    "    #n_pairs = min(int(len(y) * NONK), len(bad_pairs))\n",
    "    n_pairs = NN\n",
    "    for i in np.random.choice(range(len(bad_pairs)), n_pairs, replace=False):\n",
    "        X.append(bad_pairs[i][0])\n",
    "        y.append(bad_pairs[i][1])\n",
    "    return X, y"
   ]
  },
  {
   "cell_type": "code",
   "execution_count": 82,
   "metadata": {},
   "outputs": [],
   "source": [
    "def create_dataset(files):\n",
    "    X, y, file_name = [], [], []\n",
    "    for file in tqdm(files):\n",
    "        X_file, y_file = create_Xy(file)\n",
    "        print('create_dataset: len(y_file)={}'.format(len(y_file)))\n",
    "        X += X_file\n",
    "        y += y_file\n",
    "        file_name += [file] * len(y_file)\n",
    "    return np.array(X), np.array(y), np.array(file_name)"
   ]
  },
  {
   "cell_type": "code",
   "execution_count": 83,
   "metadata": {},
   "outputs": [
    {
     "data": {
      "application/vnd.jupyter.widget-view+json": {
       "model_id": "1691d228d18e4487ba8cc7de1650806c",
       "version_major": 2,
       "version_minor": 0
      },
      "text/plain": [
       "HBox(children=(IntProgress(value=0, max=7), HTML(value='')))"
      ]
     },
     "metadata": {},
     "output_type": "display_data"
    },
    {
     "name": "stdout",
     "output_type": "stream",
     "text": [
      "score (59, 60) 2\n",
      "score (3919, 3920) 2\n"
     ]
    },
    {
     "data": {
      "application/vnd.jupyter.widget-view+json": {
       "model_id": "701210f21c5a4387b36eba959419dda3",
       "version_major": 2,
       "version_minor": 0
      },
      "text/plain": [
       "HBox(children=(IntProgress(value=1, bar_style='info', max=1), HTML(value='')))"
      ]
     },
     "metadata": {},
     "output_type": "display_data"
    },
    {
     "name": "stdout",
     "output_type": "stream",
     "text": [
      "(20, 25, 3)\n",
      "create_dataset: len(y_file)=1004\n",
      "score (991, 996) 6\n",
      "score (4843, 4846) 4\n"
     ]
    },
    {
     "data": {
      "application/vnd.jupyter.widget-view+json": {
       "model_id": "369dd752967d4be6bd3a41f87622b59e",
       "version_major": 2,
       "version_minor": 0
      },
      "text/plain": [
       "HBox(children=(IntProgress(value=1, bar_style='info', max=1), HTML(value='')))"
      ]
     },
     "metadata": {},
     "output_type": "display_data"
    },
    {
     "name": "stdout",
     "output_type": "stream",
     "text": [
      "(20, 25, 3)\n",
      "create_dataset: len(y_file)=1010\n",
      "score (992, 995) 4\n",
      "score (4783, 4786) 4\n"
     ]
    },
    {
     "data": {
      "application/vnd.jupyter.widget-view+json": {
       "model_id": "d6fd84d725144014b39d8d9745a36b5a",
       "version_major": 2,
       "version_minor": 0
      },
      "text/plain": [
       "HBox(children=(IntProgress(value=1, bar_style='info', max=1), HTML(value='')))"
      ]
     },
     "metadata": {},
     "output_type": "display_data"
    },
    {
     "name": "stdout",
     "output_type": "stream",
     "text": [
      "(20, 25, 3)\n",
      "create_dataset: len(y_file)=1008\n",
      "score (930, 932) 3\n",
      "score (4599, 4600) 2\n"
     ]
    },
    {
     "data": {
      "application/vnd.jupyter.widget-view+json": {
       "model_id": "5cfa7076292b4a8995d067f3e1ef1b8f",
       "version_major": 2,
       "version_minor": 0
      },
      "text/plain": [
       "HBox(children=(IntProgress(value=1, bar_style='info', max=1), HTML(value='')))"
      ]
     },
     "metadata": {},
     "output_type": "display_data"
    },
    {
     "name": "stdout",
     "output_type": "stream",
     "text": [
      "(20, 25, 3)\n",
      "create_dataset: len(y_file)=1005\n",
      "score (1089, 1090) 2\n",
      "score (4849, 4852) 4\n"
     ]
    },
    {
     "data": {
      "application/vnd.jupyter.widget-view+json": {
       "model_id": "c484128900304d6f84767bedfacdf364",
       "version_major": 2,
       "version_minor": 0
      },
      "text/plain": [
       "HBox(children=(IntProgress(value=1, bar_style='info', max=1), HTML(value='')))"
      ]
     },
     "metadata": {},
     "output_type": "display_data"
    },
    {
     "name": "stdout",
     "output_type": "stream",
     "text": [
      "(20, 25, 3)\n",
      "create_dataset: len(y_file)=1006\n",
      "score (1025, 1028) 4\n",
      "score (4868, 4870) 3\n"
     ]
    },
    {
     "data": {
      "application/vnd.jupyter.widget-view+json": {
       "model_id": "3577c0d5ff0e4776b8b65296a633a533",
       "version_major": 2,
       "version_minor": 0
      },
      "text/plain": [
       "HBox(children=(IntProgress(value=1, bar_style='info', max=1), HTML(value='')))"
      ]
     },
     "metadata": {},
     "output_type": "display_data"
    },
    {
     "name": "stdout",
     "output_type": "stream",
     "text": [
      "(20, 25, 3)\n",
      "create_dataset: len(y_file)=1007\n",
      "score (932, 935) 4\n",
      "score (4743, 4745) 3\n"
     ]
    },
    {
     "data": {
      "application/vnd.jupyter.widget-view+json": {
       "model_id": "ed8d097971de4860a6ba9a6fdbb78750",
       "version_major": 2,
       "version_minor": 0
      },
      "text/plain": [
       "HBox(children=(IntProgress(value=1, bar_style='info', max=1), HTML(value='')))"
      ]
     },
     "metadata": {},
     "output_type": "display_data"
    },
    {
     "name": "stdout",
     "output_type": "stream",
     "text": [
      "(20, 25, 3)\n",
      "create_dataset: len(y_file)=1007\n",
      "\n"
     ]
    }
   ],
   "source": [
    "X, y, file_name = create_dataset(FILES)"
   ]
  },
  {
   "cell_type": "code",
   "execution_count": 84,
   "metadata": {},
   "outputs": [
    {
     "name": "stdout",
     "output_type": "stream",
     "text": [
      "['resized_639900_5.mp4' 'resized_639919_5.mp4' 'resized_639933_5.mp4'\n",
      " 'resized_639939_5.mp4' 'resized_640085_5.mp4' 'resized_640196_5.mp4'\n",
      " 'resized_641579_3.mp4']\n",
      "(7047, 1500)\n"
     ]
    }
   ],
   "source": [
    "print(np.unique(file_name))\n",
    "print(X.shape)"
   ]
  },
  {
   "cell_type": "code",
   "execution_count": 88,
   "metadata": {},
   "outputs": [],
   "source": [
    "from sklearn.metrics import f1_score, accuracy_score\n",
    "\n",
    "def run_cross_val(model, X, y, file_name, count=None):\n",
    "    X = np.array(X)\n",
    "    y = np.array(y)\n",
    "    file_name = np.array(file_name)\n",
    "    ind = 0\n",
    "    f1s, acs, nonnan_f1s = [], [], []\n",
    "    for file in tqdm(np.unique(file_name)):\n",
    "        if ind == count:\n",
    "            break\n",
    "        train_ind = file_name != file\n",
    "        X_train, y_train, X_test, y_test = X[train_ind], y[train_ind], X[~train_ind], y[~train_ind]\n",
    "        print('run_cross_val: #{} train_size={} test_size={}'.format(\n",
    "            ind, len(y_train), len(y_test)), end=' ')\n",
    "        model.fit(X_train, y_train)\n",
    "        y_pred = model.predict(X_test)\n",
    "        f1, ac = f1_score(y_test, y_pred, average='macro'), accuracy_score(y_test, y_pred)\n",
    "        \n",
    "        nonan_ind = (y_test != NONE_TYPE) | (y_pred != NONE_TYPE)\n",
    "        \n",
    "        nonnan_f1 = f1_score(y_test[nonan_ind], y_pred[nonan_ind], average='macro')\n",
    "        \n",
    "        f1s.append(f1)\n",
    "        acs.append(ac)\n",
    "        nonnan_f1s.append(nonnan_f1)\n",
    "        print('f1={} ac={} nonnan_f1={}'.format(f1, ac, nonnan_f1))\n",
    "        \n",
    "        ind += 1\n",
    "    return np.mean(f1s), np.mean(acs), np.mean(nonnan_f1s)"
   ]
  },
  {
   "cell_type": "code",
   "execution_count": 89,
   "metadata": {},
   "outputs": [
    {
     "name": "stderr",
     "output_type": "stream",
     "text": [
      "/usr/local/lib/python3.5/dist-packages/sklearn/ensemble/weight_boosting.py:29: DeprecationWarning: numpy.core.umath_tests is an internal NumPy module and should not be imported. It will be removed in a future NumPy release.\n",
      "  from numpy.core.umath_tests import inner1d\n"
     ]
    }
   ],
   "source": [
    "from sklearn.linear_model import RidgeClassifier, LogisticRegression\n",
    "from sklearn.svm import SVC\n",
    "from sklearn.neighbors import KNeighborsClassifier\n",
    "from sklearn.ensemble import RandomForestClassifier\n",
    "from sklearn.random_projection import GaussianRandomProjection, SparseRandomProjection\n",
    "from sklearn.pipeline import make_pipeline, make_union\n",
    "from sklearn.ensemble import BaggingClassifier\n",
    "from sklearn.neural_network import MLPClassifier\n",
    "from sklearn.preprocessing import PolynomialFeatures"
   ]
  },
  {
   "cell_type": "code",
   "execution_count": 90,
   "metadata": {},
   "outputs": [],
   "source": [
    "def test_models(models, names=None):\n",
    "    if names is None:\n",
    "        names = [model.__class__.__name__ for model in models]\n",
    "    assert(len(models) == len(names))\n",
    "    scores = []\n",
    "    for model, name in zip(models, names):\n",
    "        print(name)\n",
    "        score = run_cross_val(model, X, y, file_name)\n",
    "        scores.append((name, score))\n",
    "        print('Total: f1={:0.5} ac={:0.5} nonan_f1={:0.5}'.format(*score))\n",
    "        print('#'*30 + '\\n'*3)\n",
    "    return scores"
   ]
  },
  {
   "cell_type": "code",
   "execution_count": null,
   "metadata": {},
   "outputs": [],
   "source": [
    "class ManualClassifier:\n",
    "    def __init__(self):\n",
    "        pass\n",
    "    \n",
    "    def fit(self, X, y):\n",
    "        pass\n",
    "    \n",
    "    def predict(self, X):\n",
    "        "
   ]
  },
  {
   "cell_type": "code",
   "execution_count": 92,
   "metadata": {},
   "outputs": [
    {
     "name": "stdout",
     "output_type": "stream",
     "text": [
      "RidgeClassifier\n"
     ]
    },
    {
     "data": {
      "application/vnd.jupyter.widget-view+json": {
       "model_id": "4551dd6812094e41ad0f9b3ec5de0c32",
       "version_major": 2,
       "version_minor": 0
      },
      "text/plain": [
       "HBox(children=(IntProgress(value=0, max=7), HTML(value='')))"
      ]
     },
     "metadata": {},
     "output_type": "display_data"
    },
    {
     "name": "stdout",
     "output_type": "stream",
     "text": [
      "run_cross_val: #0 train_size=6037 test_size=1010 f1=0.9156646626586507 ac=0.996039603960396 nonnan_f1=0.41666666666666663\n",
      "run_cross_val: #1 train_size=6039 test_size=1008 f1=0.8796992481203008 ac=0.9950396825396826 nonnan_f1=0.380952380952381\n",
      "run_cross_val: #2 train_size=6042 test_size=1005 f1=0.7048086606243706 ac=0.9860696517412936 nonnan_f1=0.20833333333333334\n",
      "run_cross_val: #3 train_size=6041 test_size=1006 f1=0.7026101170292312 ac=0.9831013916500994 nonnan_f1=0.20689655172413793\n",
      "run_cross_val: #4 train_size=6040 test_size=1007 f1=0.8878868848808729 ac=0.9960278053624627 nonnan_f1=0.3888888888888889\n",
      "run_cross_val: #5 train_size=6040 test_size=1007 f1=0.7891541038525963 ac=0.9900695134061569 nonnan_f1=0.2916666666666667\n",
      "run_cross_val: #6 train_size=6043 test_size=1004 f1=0.6433525903490568 ac=0.9810756972111554 nonnan_f1=0.14814814814814817\n",
      "\n",
      "Total: f1=0.78903 ac=0.98963 nonan_f1=0.29165\n",
      "##############################\n",
      "\n",
      "\n",
      "\n",
      "CPU times: user 8.38 s, sys: 3.78 s, total: 12.2 s\n",
      "Wall time: 4.18 s\n"
     ]
    }
   ],
   "source": [
    "%%time\n",
    "one_ridge = RidgeClassifier(normalize=True, class_weight='balanced')\n",
    "test_models([one_ridge])"
   ]
  },
  {
   "cell_type": "code",
   "execution_count": 93,
   "metadata": {},
   "outputs": [
    {
     "ename": "ValueError",
     "evalue": "cannot reshape array of size 1500 into shape (25,50,3)",
     "output_type": "error",
     "traceback": [
      "\u001b[0;31m---------------------------------------------------------------------------\u001b[0m",
      "\u001b[0;31mValueError\u001b[0m                                Traceback (most recent call last)",
      "\u001b[0;32m<ipython-input-93-13aae615ff0b>\u001b[0m in \u001b[0;36m<module>\u001b[0;34m()\u001b[0m\n\u001b[1;32m      1\u001b[0m \u001b[0;32mfor\u001b[0m \u001b[0mtype_i\u001b[0m \u001b[0;32min\u001b[0m \u001b[0mrange\u001b[0m\u001b[0;34m(\u001b[0m\u001b[0;36m4\u001b[0m\u001b[0;34m)\u001b[0m\u001b[0;34m:\u001b[0m\u001b[0;34m\u001b[0m\u001b[0m\n\u001b[0;32m----> 2\u001b[0;31m     \u001b[0mcoef_img\u001b[0m \u001b[0;34m=\u001b[0m \u001b[0mone_ridge\u001b[0m\u001b[0;34m.\u001b[0m\u001b[0mcoef_\u001b[0m\u001b[0;34m[\u001b[0m\u001b[0mtype_i\u001b[0m\u001b[0;34m]\u001b[0m\u001b[0;34m.\u001b[0m\u001b[0mreshape\u001b[0m\u001b[0;34m(\u001b[0m\u001b[0;34m(\u001b[0m\u001b[0;36m25\u001b[0m\u001b[0;34m,\u001b[0m \u001b[0;36m50\u001b[0m\u001b[0;34m,\u001b[0m \u001b[0;36m3\u001b[0m\u001b[0;34m)\u001b[0m\u001b[0;34m)\u001b[0m\u001b[0;34m\u001b[0m\u001b[0m\n\u001b[0m\u001b[1;32m      3\u001b[0m     \u001b[0mshow_img\u001b[0m\u001b[0;34m(\u001b[0m\u001b[0mcoef_img\u001b[0m\u001b[0;34m[\u001b[0m\u001b[0;34m:\u001b[0m\u001b[0;34m,\u001b[0m\u001b[0;34m:\u001b[0m\u001b[0;34m,\u001b[0m\u001b[0;36m2\u001b[0m\u001b[0;34m]\u001b[0m\u001b[0;34m)\u001b[0m\u001b[0;34m\u001b[0m\u001b[0m\n",
      "\u001b[0;31mValueError\u001b[0m: cannot reshape array of size 1500 into shape (25,50,3)"
     ]
    }
   ],
   "source": [
    "for type_i in range(4):\n",
    "    coef_img = one_ridge.coef_[type_i].reshape((25, 50, 3))\n",
    "    show_img(coef_img[:,:,2])"
   ]
  },
  {
   "cell_type": "code",
   "execution_count": 96,
   "metadata": {
    "scrolled": false
   },
   "outputs": [
    {
     "name": "stdout",
     "output_type": "stream",
     "text": [
      "RidgeClassifier\n"
     ]
    },
    {
     "data": {
      "application/vnd.jupyter.widget-view+json": {
       "model_id": "001b07c78ea747fea7a4ab2e401e26c0",
       "version_major": 2,
       "version_minor": 0
      },
      "text/plain": [
       "HBox(children=(IntProgress(value=0, max=7), HTML(value='')))"
      ]
     },
     "metadata": {},
     "output_type": "display_data"
    },
    {
     "name": "stdout",
     "output_type": "stream",
     "text": [
      "run_cross_val: #0 train_size=6037 test_size=1010 f1=0.9156646626586507 ac=0.996039603960396 nonnan_f1=0.41666666666666663\n",
      "run_cross_val: #1 train_size=6039 test_size=1008 f1=0.8796992481203008 ac=0.9950396825396826 nonnan_f1=0.380952380952381\n",
      "run_cross_val: #2 train_size=6042 test_size=1005 f1=0.7048086606243706 ac=0.9860696517412936 nonnan_f1=0.20833333333333334\n",
      "run_cross_val: #3 train_size=6041 test_size=1006 f1=0.7026101170292312 ac=0.9831013916500994 nonnan_f1=0.20689655172413793\n",
      "run_cross_val: #4 train_size=6040 test_size=1007 f1=0.8878868848808729 ac=0.9960278053624627 nonnan_f1=0.3888888888888889\n",
      "run_cross_val: #5 train_size=6040 test_size=1007 f1=0.7891541038525963 ac=0.9900695134061569 nonnan_f1=0.2916666666666667\n",
      "run_cross_val: #6 train_size=6043 test_size=1004 f1=0.6433525903490568 ac=0.9810756972111554 nonnan_f1=0.14814814814814817\n",
      "\n",
      "Total: f1=0.78903 ac=0.98963 nonan_f1=0.29165\n",
      "##############################\n",
      "\n",
      "\n",
      "\n",
      "RidgeClassifier\n"
     ]
    },
    {
     "data": {
      "application/vnd.jupyter.widget-view+json": {
       "model_id": "df9b5feaa4c24149a87db15480f3a478",
       "version_major": 2,
       "version_minor": 0
      },
      "text/plain": [
       "HBox(children=(IntProgress(value=0, max=7), HTML(value='')))"
      ]
     },
     "metadata": {},
     "output_type": "display_data"
    },
    {
     "name": "stdout",
     "output_type": "stream",
     "text": [
      "run_cross_val: #0 train_size=6037 test_size=1010 f1=0.8621348621348621 ac=0.994059405940594 nonnan_f1=0.3636363636363636\n",
      "run_cross_val: #1 train_size=6039 test_size=1008 f1=0.5980059820538385 ac=0.9920634920634921 nonnan_f1=0.1\n",
      "run_cross_val: #2 train_size=6042 test_size=1005 f1=0.7849654090293132 ac=0.9970149253731343 nonnan_f1=0.28571428571428575\n",
      "run_cross_val: #3 train_size=6041 test_size=1006 f1=0.7026101170292312 ac=0.9831013916500994 nonnan_f1=0.20689655172413793\n",
      "run_cross_val: #4 train_size=6040 test_size=1007 f1=0.7714791449189851 ac=0.9950347567030785 nonnan_f1=0.2727272727272727\n",
      "run_cross_val: #5 train_size=6040 test_size=1007 f1=0.8628874869513911 ac=0.997020854021847 nonnan_f1=0.36363636363636365\n",
      "run_cross_val: #6 train_size=6043 test_size=1004 f1=0.749 ac=0.9960159362549801 nonnan_f1=0.25\n",
      "\n",
      "Total: f1=0.76158 ac=0.99347 nonan_f1=0.26323\n",
      "##############################\n",
      "\n",
      "\n",
      "\n",
      "RidgeClassifier\n"
     ]
    },
    {
     "data": {
      "application/vnd.jupyter.widget-view+json": {
       "model_id": "77af7331e70142a3b48f978136e596fd",
       "version_major": 2,
       "version_minor": 0
      },
      "text/plain": [
       "HBox(children=(IntProgress(value=0, max=7), HTML(value='')))"
      ]
     },
     "metadata": {},
     "output_type": "display_data"
    },
    {
     "name": "stdout",
     "output_type": "stream",
     "text": [
      "run_cross_val: #0 train_size=6037 test_size=1010 f1=0.4975124378109453 ac=0.9900990099009901 nonnan_f1=0.0\n",
      "run_cross_val: #1 train_size=6039 test_size=1008 f1=0.49800796812749004 ac=0.9920634920634921 nonnan_f1=0.0\n",
      "run_cross_val: #2 train_size=6042 test_size=1005 f1=0.49875311720698257 ac=0.9950248756218906 nonnan_f1=0.0\n",
      "run_cross_val: #3 train_size=6041 test_size=1006 f1=0.4985044865403789 ac=0.9940357852882704 nonnan_f1=0.0\n",
      "run_cross_val: #4 train_size=6040 test_size=1007 f1=0.4982561036372696 ac=0.9930486593843099 nonnan_f1=0.0\n",
      "run_cross_val: #5 train_size=6040 test_size=1007 f1=0.4982561036372696 ac=0.9930486593843099 nonnan_f1=0.0\n",
      "run_cross_val: #6 train_size=6043 test_size=1004 f1=0.499001996007984 ac=0.9960159362549801 nonnan_f1=0.0\n",
      "\n",
      "Total: f1=0.49833 ac=0.99333 nonan_f1=0.0\n",
      "##############################\n",
      "\n",
      "\n",
      "\n",
      "LogisticRegression\n"
     ]
    },
    {
     "data": {
      "application/vnd.jupyter.widget-view+json": {
       "model_id": "7f38ae35df324c8bbcd50b81cb348e80",
       "version_major": 2,
       "version_minor": 0
      },
      "text/plain": [
       "HBox(children=(IntProgress(value=0, max=7), HTML(value='')))"
      ]
     },
     "metadata": {},
     "output_type": "display_data"
    },
    {
     "name": "stdout",
     "output_type": "stream",
     "text": [
      "run_cross_val: #0 train_size=6037 test_size=1010 f1=0.7842187722546646 ac=0.994059405940594 nonnan_f1=0.28571428571428575\n",
      "run_cross_val: #1 train_size=6039 test_size=1008 f1=0.6093672147483806 ac=0.9930555555555556 nonnan_f1=0.1111111111111111\n",
      "run_cross_val: #2 train_size=6042 test_size=1005 f1=0.680067306380463 ac=0.9930348258706467 nonnan_f1=0.1818181818181818\n",
      "run_cross_val: #3 train_size=6041 test_size=1006 f1=0.682449494949495 ac=0.9801192842942346 nonnan_f1=0.1875\n",
      "run_cross_val: #4 train_size=6040 test_size=1007 f1=0.4982561036372696 ac=0.9930486593843099 nonnan_f1=0.0\n",
      "run_cross_val: #5 train_size=6040 test_size=1007 f1=0.8323343323343323 ac=0.9960278053624627 nonnan_f1=0.3333333333333333\n",
      "run_cross_val: #6 train_size=6043 test_size=1004 f1=0.6984984984984985 ac=0.9940239043824701 nonnan_f1=0.2\n",
      "\n",
      "Total: f1=0.6836 ac=0.99191 nonan_f1=0.18564\n",
      "##############################\n",
      "\n",
      "\n",
      "\n",
      "Pipeline\n"
     ]
    },
    {
     "data": {
      "application/vnd.jupyter.widget-view+json": {
       "model_id": "fcd1ba103ce14b2983deb77cd7555439",
       "version_major": 2,
       "version_minor": 0
      },
      "text/plain": [
       "HBox(children=(IntProgress(value=0, max=7), HTML(value='')))"
      ]
     },
     "metadata": {},
     "output_type": "display_data"
    },
    {
     "name": "stdout",
     "output_type": "stream",
     "text": [
      "run_cross_val: #0 train_size=6037 test_size=1010 f1=0.8140403482469292 ac=0.9930693069306931 nonnan_f1=0.3157894736842105\n",
      "run_cross_val: #1 train_size=6039 test_size=1008 f1=0.898997995991984 ac=0.996031746031746 nonnan_f1=0.4\n",
      "run_cross_val: #2 train_size=6042 test_size=1005 f1=0.7849654090293132 ac=0.9970149253731343 nonnan_f1=0.28571428571428575\n",
      "run_cross_val: #3 train_size=6041 test_size=1006 f1=0.7026101170292312 ac=0.9831013916500994 nonnan_f1=0.20689655172413793\n",
      "run_cross_val: #4 train_size=6040 test_size=1007 f1=0.4982561036372696 ac=0.9930486593843099 nonnan_f1=0.0\n",
      "run_cross_val: #5 train_size=6040 test_size=1007 f1=0.816173786053304 ac=0.9920556107249255 nonnan_f1=0.3181818181818182\n",
      "run_cross_val: #6 train_size=6043 test_size=1004 f1=0.749 ac=0.9960159362549801 nonnan_f1=0.25\n",
      "\n",
      "Total: f1=0.75201 ac=0.99291 nonan_f1=0.2538\n",
      "##############################\n",
      "\n",
      "\n",
      "\n",
      "RandomForestClassifier\n"
     ]
    },
    {
     "data": {
      "application/vnd.jupyter.widget-view+json": {
       "model_id": "cdd10f9bca0144c296d743450ceacd90",
       "version_major": 2,
       "version_minor": 0
      },
      "text/plain": [
       "HBox(children=(IntProgress(value=0, max=7), HTML(value='')))"
      ]
     },
     "metadata": {},
     "output_type": "display_data"
    },
    {
     "name": "stdout",
     "output_type": "stream",
     "text": [
      "run_cross_val: #0 train_size=6037 test_size=1010 f1=0.4975124378109453 ac=0.9900990099009901 nonnan_f1=0.0\n",
      "run_cross_val: #1 train_size=6039 test_size=1008 f1=0.49800796812749004 ac=0.9920634920634921 nonnan_f1=0.0\n",
      "run_cross_val: #2 train_size=6042 test_size=1005 f1=0.7849654090293132 ac=0.9970149253731343 nonnan_f1=0.28571428571428575\n",
      "run_cross_val: #3 train_size=6041 test_size=1006 f1=0.6882794949260206 ac=0.9840954274353877 nonnan_f1=0.1923076923076923\n",
      "run_cross_val: #4 train_size=6040 test_size=1007 f1=0.4982561036372696 ac=0.9930486593843099 nonnan_f1=0.0\n",
      "run_cross_val: #5 train_size=6040 test_size=1007 f1=0.7990019960079839 ac=0.9960278053624627 nonnan_f1=0.3\n",
      "run_cross_val: #6 train_size=6043 test_size=1004 f1=0.499001996007984 ac=0.9960159362549801 nonnan_f1=0.0\n",
      "\n",
      "Total: f1=0.60929 ac=0.99262 nonan_f1=0.11115\n",
      "##############################\n",
      "\n",
      "\n",
      "\n",
      "CPU times: user 46.8 s, sys: 15.6 s, total: 1min 2s\n",
      "Wall time: 32.9 s\n"
     ]
    }
   ],
   "source": [
    "%%time\n",
    "# TOO LONG\n",
    "\n",
    "models = [\n",
    "    RidgeClassifier(normalize=True, class_weight='balanced'),\n",
    "    RidgeClassifier(),\n",
    "    RidgeClassifier(normalize=True),\n",
    "    LogisticRegression(),\n",
    "    make_pipeline(GaussianRandomProjection(n_components=100), KNeighborsClassifier()),\n",
    "    RandomForestClassifier(),\n",
    "]\n",
    "test_models(models)"
   ]
  },
  {
   "cell_type": "code",
   "execution_count": null,
   "metadata": {
    "collapsed": true
   },
   "outputs": [],
   "source": []
  }
 ],
 "metadata": {
  "kernelspec": {
   "display_name": "Python 3",
   "language": "python",
   "name": "python3"
  },
  "language_info": {
   "codemirror_mode": {
    "name": "ipython",
    "version": 3
   },
   "file_extension": ".py",
   "mimetype": "text/x-python",
   "name": "python",
   "nbconvert_exporter": "python",
   "pygments_lexer": "ipython3",
   "version": "3.5.2"
  }
 },
 "nbformat": 4,
 "nbformat_minor": 2
}
