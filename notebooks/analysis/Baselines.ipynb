{
 "cells": [
  {
   "cell_type": "code",
   "execution_count": 1,
   "metadata": {
    "collapsed": true
   },
   "outputs": [],
   "source": [
    "import sys\n",
    "sys.path.insert(0, r'../..')"
   ]
  },
  {
   "cell_type": "code",
   "execution_count": 2,
   "metadata": {
    "collapsed": true
   },
   "outputs": [],
   "source": [
    "%matplotlib inline\n",
    "import warnings\n",
    "warnings.filterwarnings('ignore')\n",
    "from matplotlib import pyplot as plt\n",
    "import seaborn as sns\n",
    "import pandas as pd\n",
    "import pandas_profiling\n",
    "import numpy as np"
   ]
  },
  {
   "cell_type": "code",
   "execution_count": 3,
   "metadata": {
    "collapsed": true
   },
   "outputs": [],
   "source": [
    "from lib.scoring import task_score\n",
    "from lib.utils import convert_time"
   ]
  },
  {
   "cell_type": "code",
   "execution_count": 4,
   "metadata": {
    "collapsed": true
   },
   "outputs": [],
   "source": [
    "DATA_PATH = '../../data/train/events_data.csv'"
   ]
  },
  {
   "cell_type": "code",
   "execution_count": 5,
   "metadata": {
    "collapsed": true
   },
   "outputs": [],
   "source": [
    "EVENTS_TYPE = ['удар по воротам', 'угловой', 'замена', 'желтая карточка', 'гол']\n",
    "EVENTS_COUNTS = [0.502, 0.223, 0.137, 0.09, 0.048]\n",
    "TOTAL_TIME = 6000"
   ]
  },
  {
   "cell_type": "code",
   "execution_count": 6,
   "metadata": {
    "collapsed": true
   },
   "outputs": [],
   "source": [
    "data = pd.read_csv(DATA_PATH) "
   ]
  },
  {
   "cell_type": "code",
   "execution_count": 7,
   "metadata": {
    "collapsed": true
   },
   "outputs": [],
   "source": [
    "data['event_time'] = data['event_time'].apply(convert_time)"
   ]
  },
  {
   "cell_type": "code",
   "execution_count": 8,
   "metadata": {
    "collapsed": true
   },
   "outputs": [],
   "source": [
    "FILES = data['file_name'].unique()"
   ]
  },
  {
   "cell_type": "code",
   "execution_count": 9,
   "metadata": {},
   "outputs": [
    {
     "data": {
      "text/plain": [
       "'640612_5.mp4,640208_5.mp4,640202_5.mp4,640196_5.mp4,643734_5.mp4,639919_5.mp4,639900_5.mp4,640085_5.mp4,639939_5.mp4,639933_5.mp4,640606_5.mp4,641579_3.mp4,640680_5.mp4,640674_5.mp4,640600_3.mp4,640668_5.mp4,633020_5.mp4,633012_5.mp4,632243_5.mp4,632255_5.mp4,631762_5.mp4,631750_5.mp4,631646_5.mp4,631638_5.mp4'"
      ]
     },
     "execution_count": 9,
     "metadata": {},
     "output_type": "execute_result"
    }
   ],
   "source": [
    "','.join(FILES)"
   ]
  },
  {
   "cell_type": "code",
   "execution_count": 10,
   "metadata": {
    "collapsed": true
   },
   "outputs": [],
   "source": [
    "def gen_prediction_every_n_all(files, n):\n",
    "    y_pred = []\n",
    "    for file in files:\n",
    "        for time in range(n // 2, TOTAL_TIME, n):\n",
    "            for event in EVENTS_TYPE:\n",
    "                y = {\n",
    "                    'file_name': file,\n",
    "                    'event_type': event,\n",
    "                    'event_time': time\n",
    "                }\n",
    "                y_pred.append(y)\n",
    "    return pd.DataFrame(y_pred)"
   ]
  },
  {
   "cell_type": "code",
   "execution_count": 11,
   "metadata": {
    "collapsed": true
   },
   "outputs": [],
   "source": [
    "def gen_prediction_every_n_const(files, n, event):\n",
    "    y_pred = []\n",
    "    for file in files:\n",
    "        for time in range(n // 2, TOTAL_TIME, n):\n",
    "            y = {\n",
    "                'file_name': file,\n",
    "                'event_type': event,\n",
    "                'event_time': time\n",
    "            }\n",
    "            y_pred.append(y)\n",
    "    return pd.DataFrame(y_pred)"
   ]
  },
  {
   "cell_type": "code",
   "execution_count": 15,
   "metadata": {
    "scrolled": true
   },
   "outputs": [
    {
     "name": "stdout",
     "output_type": "stream",
     "text": [
      "удар по воротам\n",
      "task_score: true_positives=476 false_positives=4324 false_negatives=0\n",
      "task_score: empty y_pred\n",
      "task_score: empty y_pred\n",
      "task_score: empty y_pred\n",
      "task_score: empty y_pred\n",
      "n=30 score=0.09916666666666668\n",
      "task_score: true_positives=473 false_positives=1927 false_negatives=3\n",
      "task_score: empty y_pred\n",
      "task_score: empty y_pred\n",
      "task_score: empty y_pred\n",
      "task_score: empty y_pred\n",
      "n=60 score=0.19683728672492717\n",
      "task_score: true_positives=407 false_positives=793 false_negatives=69\n",
      "task_score: empty y_pred\n",
      "task_score: empty y_pred\n",
      "task_score: empty y_pred\n",
      "task_score: empty y_pred\n",
      "n=120 score=0.3207249802994484\n",
      "task_score: true_positives=240 false_positives=480 false_negatives=236\n",
      "task_score: empty y_pred\n",
      "task_score: empty y_pred\n",
      "task_score: empty y_pred\n",
      "task_score: empty y_pred\n",
      "n=200 score=0.2510460251046025\n",
      "task_score: true_positives=141 false_positives=267 false_negatives=335\n",
      "task_score: empty y_pred\n",
      "task_score: empty y_pred\n",
      "task_score: empty y_pred\n",
      "task_score: empty y_pred\n",
      "n=360 score=0.18977119784656796\n",
      "task_score: true_positives=80 false_positives=160 false_negatives=396\n",
      "task_score: empty y_pred\n",
      "task_score: empty y_pred\n",
      "task_score: empty y_pred\n",
      "task_score: empty y_pred\n",
      "n=600 score=0.12578616352201258\n",
      "Best: 0.3207249802994484 удар по воротам\n",
      "угловой\n",
      "task_score: empty y_pred\n",
      "task_score: true_positives=212 false_positives=4588 false_negatives=0\n",
      "task_score: empty y_pred\n",
      "task_score: empty y_pred\n",
      "task_score: empty y_pred\n",
      "n=30 score=0.04416666666666667\n",
      "task_score: empty y_pred\n",
      "task_score: true_positives=211 false_positives=2189 false_negatives=1\n",
      "task_score: empty y_pred\n",
      "task_score: empty y_pred\n",
      "task_score: empty y_pred\n",
      "n=60 score=0.08788004997917534\n",
      "task_score: empty y_pred\n",
      "task_score: true_positives=187 false_positives=1013 false_negatives=25\n",
      "task_score: empty y_pred\n",
      "task_score: empty y_pred\n",
      "task_score: empty y_pred\n",
      "n=120 score=0.1526530612244898\n",
      "task_score: empty y_pred\n",
      "task_score: true_positives=111 false_positives=609 false_negatives=101\n",
      "task_score: empty y_pred\n",
      "task_score: empty y_pred\n",
      "task_score: empty y_pred\n",
      "n=200 score=0.13520097442143728\n",
      "task_score: empty y_pred\n",
      "task_score: true_positives=61 false_positives=347 false_negatives=151\n",
      "task_score: empty y_pred\n",
      "task_score: empty y_pred\n",
      "task_score: empty y_pred\n",
      "n=360 score=0.10912343470483005\n",
      "task_score: empty y_pred\n",
      "task_score: true_positives=36 false_positives=204 false_negatives=176\n",
      "task_score: empty y_pred\n",
      "task_score: empty y_pred\n",
      "task_score: empty y_pred\n",
      "n=600 score=0.08653846153846154\n",
      "Best: 0.1526530612244898 угловой\n",
      "замена\n",
      "task_score: empty y_pred\n",
      "task_score: empty y_pred\n",
      "task_score: true_positives=130 false_positives=4670 false_negatives=0\n",
      "task_score: empty y_pred\n",
      "task_score: empty y_pred\n",
      "n=30 score=0.027083333333333334\n",
      "task_score: empty y_pred\n",
      "task_score: empty y_pred\n",
      "task_score: true_positives=130 false_positives=2270 false_negatives=0\n",
      "task_score: empty y_pred\n",
      "task_score: empty y_pred\n",
      "n=60 score=0.05416666666666667\n",
      "task_score: empty y_pred\n",
      "task_score: empty y_pred\n",
      "task_score: true_positives=116 false_positives=1084 false_negatives=14\n",
      "task_score: empty y_pred\n",
      "task_score: empty y_pred\n",
      "n=120 score=0.09555189456342669\n",
      "task_score: empty y_pred\n",
      "task_score: empty y_pred\n",
      "task_score: true_positives=66 false_positives=654 false_negatives=64\n",
      "task_score: empty y_pred\n",
      "task_score: empty y_pred\n",
      "n=200 score=0.08418367346938777\n",
      "task_score: empty y_pred\n",
      "task_score: empty y_pred\n",
      "task_score: true_positives=45 false_positives=363 false_negatives=85\n",
      "task_score: empty y_pred\n",
      "task_score: empty y_pred\n",
      "n=360 score=0.09127789046653144\n",
      "task_score: empty y_pred\n",
      "task_score: empty y_pred\n",
      "task_score: true_positives=32 false_positives=208 false_negatives=98\n",
      "task_score: empty y_pred\n",
      "task_score: empty y_pred\n",
      "n=600 score=0.09467455621301775\n",
      "Best: 0.09555189456342669 замена\n",
      "желтая карточка\n",
      "task_score: empty y_pred\n",
      "task_score: empty y_pred\n",
      "task_score: empty y_pred\n",
      "task_score: true_positives=85 false_positives=4715 false_negatives=0\n",
      "task_score: empty y_pred\n",
      "n=30 score=0.017708333333333333\n",
      "task_score: empty y_pred\n",
      "task_score: empty y_pred\n",
      "task_score: empty y_pred\n",
      "task_score: true_positives=85 false_positives=2315 false_negatives=0\n",
      "task_score: empty y_pred\n",
      "n=60 score=0.035416666666666666\n",
      "task_score: empty y_pred\n",
      "task_score: empty y_pred\n",
      "task_score: empty y_pred\n",
      "task_score: true_positives=80 false_positives=1120 false_negatives=5\n",
      "task_score: empty y_pred\n",
      "n=120 score=0.06639004149377593\n",
      "task_score: empty y_pred\n",
      "task_score: empty y_pred\n",
      "task_score: empty y_pred\n",
      "task_score: true_positives=46 false_positives=674 false_negatives=39\n",
      "task_score: empty y_pred\n",
      "n=200 score=0.06060606060606061\n",
      "task_score: empty y_pred\n",
      "task_score: empty y_pred\n",
      "task_score: empty y_pred\n",
      "task_score: true_positives=29 false_positives=379 false_negatives=56\n",
      "task_score: empty y_pred\n",
      "n=360 score=0.0625\n",
      "task_score: empty y_pred\n",
      "task_score: empty y_pred\n",
      "task_score: empty y_pred\n",
      "task_score: true_positives=10 false_positives=230 false_negatives=75\n",
      "task_score: empty y_pred\n",
      "n=600 score=0.031746031746031744\n",
      "Best: 0.06639004149377593 желтая карточка\n",
      "гол\n",
      "task_score: empty y_pred\n",
      "task_score: empty y_pred\n",
      "task_score: empty y_pred\n",
      "task_score: empty y_pred\n",
      "task_score: true_positives=46 false_positives=4754 false_negatives=0\n",
      "n=30 score=0.009583333333333333\n",
      "task_score: empty y_pred\n",
      "task_score: empty y_pred\n",
      "task_score: empty y_pred\n",
      "task_score: empty y_pred\n",
      "task_score: true_positives=46 false_positives=2354 false_negatives=0\n",
      "n=60 score=0.019166666666666665\n",
      "task_score: empty y_pred\n",
      "task_score: empty y_pred\n",
      "task_score: empty y_pred\n",
      "task_score: empty y_pred\n",
      "task_score: true_positives=46 false_positives=1154 false_negatives=0\n",
      "n=120 score=0.03833333333333333\n",
      "task_score: empty y_pred\n",
      "task_score: empty y_pred\n",
      "task_score: empty y_pred\n",
      "task_score: empty y_pred\n",
      "task_score: true_positives=29 false_positives=691 false_negatives=17\n",
      "n=200 score=0.03934871099050204\n",
      "task_score: empty y_pred\n",
      "task_score: empty y_pred\n",
      "task_score: empty y_pred\n",
      "task_score: empty y_pred\n",
      "task_score: true_positives=20 false_positives=388 false_negatives=26\n",
      "n=360 score=0.04608294930875576\n",
      "task_score: empty y_pred\n",
      "task_score: empty y_pred\n",
      "task_score: empty y_pred\n",
      "task_score: empty y_pred\n",
      "task_score: true_positives=8 false_positives=232 false_negatives=38\n",
      "n=600 score=0.02877697841726619\n",
      "Best: 0.04608294930875576 гол\n",
      "0.13628058537797932\n",
      "{'удар по воротам': 120, 'угловой': 120, 'замена': 120, 'желтая карточка': 120, 'гол': 360}\n"
     ]
    }
   ],
   "source": [
    "total = 0\n",
    "counts = {}\n",
    "for event in EVENTS_TYPE:\n",
    "    best = 0\n",
    "    best_n = 60\n",
    "    print(event)\n",
    "    for n in [30, 60, 120, 200, 360, 600]:\n",
    "        y_pred = gen_prediction_every_n_const(FILES, n, event)\n",
    "        score = task_score(data, y_pred) * 5\n",
    "        if best < score:\n",
    "            best = score\n",
    "            best_n = n\n",
    "        print(f'n={n} score={score}')\n",
    "    print('Best:', best, event)\n",
    "    counts[event] = best_n\n",
    "    total += best\n",
    "print(total / 5)\n",
    "print(counts)"
   ]
  },
  {
   "cell_type": "code",
   "execution_count": 10,
   "metadata": {
    "collapsed": true
   },
   "outputs": [],
   "source": [
    "def gen_prediction_every_n_rand(files, n):\n",
    "    y_pred = []\n",
    "    for file in files:\n",
    "        for time in range(n // 2, TOTAL_TIME, n):\n",
    "            y = {\n",
    "                'file_name': file,\n",
    "                'event_type': np.random.choice(EVENTS_TYPE, p=EVENTS_COUNTS),\n",
    "                'event_time': time\n",
    "            }\n",
    "            y_pred.append(y)\n",
    "    return pd.DataFrame(y_pred)"
   ]
  },
  {
   "cell_type": "code",
   "execution_count": 11,
   "metadata": {},
   "outputs": [
    {
     "name": "stdout",
     "output_type": "stream",
     "text": [
      "task_score: true_positives=450 false_positives=2017 false_negatives=26\n",
      "task_score: true_positives=119 false_positives=868 false_negatives=93\n",
      "task_score: true_positives=53 false_positives=614 false_negatives=77\n",
      "task_score: true_positives=32 false_positives=421 false_negatives=53\n",
      "task_score: true_positives=7 false_positives=219 false_negatives=39\n",
      "n=30 score=0.09031667210928304\n",
      "task_score: true_positives=322 false_positives=869 false_negatives=154\n",
      "task_score: true_positives=63 false_positives=452 false_negatives=149\n",
      "task_score: true_positives=26 false_positives=306 false_negatives=104\n",
      "task_score: true_positives=15 false_positives=226 false_negatives=70\n",
      "task_score: true_positives=3 false_positives=118 false_negatives=43\n",
      "n=60 score=0.09208838884740801\n",
      "task_score: true_positives=207 false_positives=384 false_negatives=269\n",
      "task_score: true_positives=39 false_positives=228 false_negatives=173\n",
      "task_score: true_positives=16 false_positives=167 false_negatives=114\n",
      "task_score: true_positives=6 false_positives=97 false_negatives=79\n",
      "task_score: true_positives=3 false_positives=53 false_negatives=43\n",
      "n=120 score=0.08929523103941708\n",
      "task_score: true_positives=115 false_positives=242 false_negatives=361\n",
      "task_score: true_positives=30 false_positives=147 false_negatives=182\n",
      "task_score: true_positives=10 false_positives=89 false_negatives=120\n",
      "task_score: true_positives=4 false_positives=48 false_negatives=81\n",
      "task_score: true_positives=3 false_positives=32 false_negatives=43\n",
      "n=200 score=0.07158628348346643\n",
      "task_score: true_positives=77 false_positives=135 false_negatives=399\n",
      "task_score: true_positives=11 false_positives=82 false_negatives=201\n",
      "task_score: true_positives=7 false_positives=47 false_negatives=123\n",
      "task_score: true_positives=1 false_positives=30 false_negatives=84\n",
      "task_score: true_positives=0 false_positives=18 false_negatives=46\n",
      "n=360 score=0.04233631080322669\n",
      "task_score: true_positives=42 false_positives=89 false_negatives=434\n",
      "task_score: true_positives=10 false_positives=37 false_negatives=202\n",
      "task_score: true_positives=5 false_positives=28 false_negatives=125\n",
      "task_score: true_positives=0 false_positives=20 false_negatives=85\n",
      "task_score: true_positives=1 false_positives=8 false_negatives=45\n",
      "n=600 score=0.0329322027789787\n",
      "Best: 0.09208838884740801\n"
     ]
    }
   ],
   "source": [
    "best = 0\n",
    "for n in [30, 60, 120, 200, 360, 600]:\n",
    "    y_pred = gen_prediction_every_n_rand(FILES, n)\n",
    "    score = task_score(data, y_pred)\n",
    "    best = max(best, score)\n",
    "    print(f'n={n} score={score}')\n",
    "print('Best:', best)"
   ]
  },
  {
   "cell_type": "code",
   "execution_count": 12,
   "metadata": {
    "collapsed": true
   },
   "outputs": [],
   "source": [
    "def gen_prediction_every_n_best(files, n):\n",
    "    y_pred = []\n",
    "    for file in files:\n",
    "        for time in range(n // 2, TOTAL_TIME, n):\n",
    "            y = {\n",
    "                'file_name': file,\n",
    "                'event_type': 'удар по воротам',\n",
    "                'event_time': time\n",
    "            }\n",
    "            y_pred.append(y)\n",
    "    return pd.DataFrame(y_pred)"
   ]
  },
  {
   "cell_type": "code",
   "execution_count": 13,
   "metadata": {},
   "outputs": [
    {
     "name": "stdout",
     "output_type": "stream",
     "text": [
      "task_score: true_positives=476 false_positives=4324 false_negatives=0\n",
      "task_score: empty y_pred\n",
      "task_score: empty y_pred\n",
      "task_score: empty y_pred\n",
      "task_score: empty y_pred\n",
      "n=30 score=0.019833333333333335\n",
      "task_score: true_positives=473 false_positives=1927 false_negatives=3\n",
      "task_score: empty y_pred\n",
      "task_score: empty y_pred\n",
      "task_score: empty y_pred\n",
      "task_score: empty y_pred\n",
      "n=60 score=0.03936745734498544\n",
      "task_score: true_positives=407 false_positives=793 false_negatives=69\n",
      "task_score: empty y_pred\n",
      "task_score: empty y_pred\n",
      "task_score: empty y_pred\n",
      "task_score: empty y_pred\n",
      "n=120 score=0.06414499605988969\n",
      "task_score: true_positives=240 false_positives=480 false_negatives=236\n",
      "task_score: empty y_pred\n",
      "task_score: empty y_pred\n",
      "task_score: empty y_pred\n",
      "task_score: empty y_pred\n",
      "n=200 score=0.0502092050209205\n",
      "task_score: true_positives=141 false_positives=267 false_negatives=335\n",
      "task_score: empty y_pred\n",
      "task_score: empty y_pred\n",
      "task_score: empty y_pred\n",
      "task_score: empty y_pred\n",
      "n=360 score=0.03795423956931359\n",
      "task_score: true_positives=80 false_positives=160 false_negatives=396\n",
      "task_score: empty y_pred\n",
      "task_score: empty y_pred\n",
      "task_score: empty y_pred\n",
      "task_score: empty y_pred\n",
      "n=600 score=0.025157232704402517\n",
      "Best: 0.06414499605988969\n"
     ]
    }
   ],
   "source": [
    "best = 0\n",
    "for n in [30, 60, 120, 200, 360, 600]:\n",
    "    y_pred = gen_prediction_every_n_best(FILES, n)\n",
    "    score = task_score(data, y_pred)\n",
    "    best = max(best, score)\n",
    "    print(f'n={n} score={score}')\n",
    "print('Best:', best)"
   ]
  },
  {
   "cell_type": "code",
   "execution_count": 14,
   "metadata": {
    "collapsed": true
   },
   "outputs": [],
   "source": [
    "def gen_prediction_every_n_two_best(files, n):\n",
    "    y_pred = []\n",
    "    for file in files:\n",
    "        for time in range(n // 2, TOTAL_TIME, n):\n",
    "            y = {\n",
    "                'file_name': file,\n",
    "                'event_type': 'удар по воротам',\n",
    "                'event_time': time\n",
    "            }\n",
    "            y_pred.append(y)\n",
    "            y = {\n",
    "                'file_name': file,\n",
    "                'event_type': 'угловой',\n",
    "                'event_time': time\n",
    "            }\n",
    "            y_pred.append(y)\n",
    "    return pd.DataFrame(y_pred)"
   ]
  },
  {
   "cell_type": "code",
   "execution_count": 15,
   "metadata": {},
   "outputs": [
    {
     "name": "stdout",
     "output_type": "stream",
     "text": [
      "task_score: true_positives=476 false_positives=4324 false_negatives=0\n",
      "task_score: true_positives=212 false_positives=4588 false_negatives=0\n",
      "task_score: empty y_pred\n",
      "task_score: empty y_pred\n",
      "task_score: empty y_pred\n",
      "n=30 score=0.028666666666666667\n",
      "task_score: true_positives=473 false_positives=1927 false_negatives=3\n",
      "task_score: true_positives=211 false_positives=2189 false_negatives=1\n",
      "task_score: empty y_pred\n",
      "task_score: empty y_pred\n",
      "task_score: empty y_pred\n",
      "n=60 score=0.056943467340820494\n",
      "task_score: true_positives=407 false_positives=793 false_negatives=69\n",
      "task_score: true_positives=187 false_positives=1013 false_negatives=25\n",
      "task_score: empty y_pred\n",
      "task_score: empty y_pred\n",
      "task_score: empty y_pred\n",
      "n=120 score=0.09467560830478763\n",
      "task_score: true_positives=240 false_positives=480 false_negatives=236\n",
      "task_score: true_positives=111 false_positives=609 false_negatives=101\n",
      "task_score: empty y_pred\n",
      "task_score: empty y_pred\n",
      "task_score: empty y_pred\n",
      "n=200 score=0.07724939990520796\n",
      "task_score: true_positives=141 false_positives=267 false_negatives=335\n",
      "task_score: true_positives=61 false_positives=347 false_negatives=151\n",
      "task_score: empty y_pred\n",
      "task_score: empty y_pred\n",
      "task_score: empty y_pred\n",
      "n=360 score=0.059778926510279606\n",
      "task_score: true_positives=80 false_positives=160 false_negatives=396\n",
      "task_score: true_positives=36 false_positives=204 false_negatives=176\n",
      "task_score: empty y_pred\n",
      "task_score: empty y_pred\n",
      "task_score: empty y_pred\n",
      "n=600 score=0.042464925012094826\n",
      "Best: 0.09467560830478763\n"
     ]
    }
   ],
   "source": [
    "best = 0\n",
    "for n in [30, 60, 120, 200, 360, 600]:\n",
    "    y_pred = gen_prediction_every_n_two_best(FILES, n)\n",
    "    score = task_score(data, y_pred)\n",
    "    best = max(best, score)\n",
    "    print(f'n={n} score={score}')\n",
    "print('Best:', best)"
   ]
  },
  {
   "cell_type": "code",
   "execution_count": 16,
   "metadata": {
    "collapsed": true
   },
   "outputs": [],
   "source": [
    "def gen_prediction_rand_n_best(files, n):\n",
    "    y_pred = []\n",
    "    for file in files:\n",
    "        for i in range(n):\n",
    "            y = {\n",
    "                'file_name': file,\n",
    "                'event_type': 'удар по воротам',\n",
    "                'event_time': np.random.randint(TOTAL_TIME)\n",
    "            }\n",
    "            y_pred.append(y)\n",
    "    return pd.DataFrame(y_pred)"
   ]
  },
  {
   "cell_type": "code",
   "execution_count": 17,
   "metadata": {},
   "outputs": [
    {
     "name": "stdout",
     "output_type": "stream",
     "text": [
      "task_score: true_positives=65 false_positives=175 false_negatives=411\n",
      "task_score: empty y_pred\n",
      "task_score: empty y_pred\n",
      "task_score: empty y_pred\n",
      "task_score: empty y_pred\n",
      "n=10 score=0.019969278033794162\n",
      "task_score: true_positives=189 false_positives=531 false_negatives=287\n",
      "task_score: empty y_pred\n",
      "task_score: empty y_pred\n",
      "task_score: empty y_pred\n",
      "task_score: empty y_pred\n",
      "n=30 score=0.03753723932472691\n",
      "task_score: true_positives=234 false_positives=726 false_negatives=242\n",
      "task_score: empty y_pred\n",
      "task_score: empty y_pred\n",
      "task_score: empty y_pred\n",
      "task_score: empty y_pred\n",
      "n=40 score=0.0389351081530782\n",
      "task_score: true_positives=315 false_positives=1125 false_negatives=161\n",
      "task_score: empty y_pred\n",
      "task_score: empty y_pred\n",
      "task_score: empty y_pred\n",
      "task_score: empty y_pred\n",
      "n=60 score=0.03935040599625234\n",
      "task_score: true_positives=404 false_positives=1996 false_negatives=72\n",
      "task_score: empty y_pred\n",
      "task_score: empty y_pred\n",
      "task_score: empty y_pred\n",
      "task_score: empty y_pred\n",
      "n=100 score=0.03268608414239482\n",
      "Best: 0.03935040599625234\n"
     ]
    }
   ],
   "source": [
    "best = 0\n",
    "for n in [10, 30, 40, 60, 100]:\n",
    "    y_pred = gen_prediction_rand_n_best(FILES, n)\n",
    "    score = task_score(data, y_pred)\n",
    "    best = max(best, score)\n",
    "    print(f'n={n} score={score}')\n",
    "print('Best:', best)"
   ]
  },
  {
   "cell_type": "code",
   "execution_count": 18,
   "metadata": {},
   "outputs": [
    {
     "name": "stdout",
     "output_type": "stream",
     "text": [
      "task_score: true_positives=476 false_positives=0 false_negatives=0\n",
      "task_score: empty y_pred\n",
      "task_score: empty y_pred\n",
      "task_score: empty y_pred\n",
      "task_score: empty y_pred\n",
      "удар по воротам 0.2\n",
      "task_score: empty y_pred\n",
      "task_score: true_positives=212 false_positives=0 false_negatives=0\n",
      "task_score: empty y_pred\n",
      "task_score: empty y_pred\n",
      "task_score: empty y_pred\n",
      "угловой 0.2\n",
      "task_score: empty y_pred\n",
      "task_score: empty y_pred\n",
      "task_score: true_positives=130 false_positives=0 false_negatives=0\n",
      "task_score: empty y_pred\n",
      "task_score: empty y_pred\n",
      "замена 0.2\n",
      "task_score: empty y_pred\n",
      "task_score: empty y_pred\n",
      "task_score: empty y_pred\n",
      "task_score: true_positives=85 false_positives=0 false_negatives=0\n",
      "task_score: empty y_pred\n",
      "желтая карточка 0.2\n",
      "task_score: empty y_pred\n",
      "task_score: empty y_pred\n",
      "task_score: empty y_pred\n",
      "task_score: empty y_pred\n",
      "task_score: true_positives=46 false_positives=0 false_negatives=0\n",
      "гол 0.2\n"
     ]
    }
   ],
   "source": [
    "for event_type in EVENTS_TYPE:\n",
    "    y_pred = data[data['event_type'] == event_type]\n",
    "    print(event_type, task_score(data, y_pred))"
   ]
  },
  {
   "cell_type": "code",
   "execution_count": 19,
   "metadata": {
    "collapsed": true
   },
   "outputs": [],
   "source": [
    "def gen_prediction_every_n_best_plus_replace(files, n):\n",
    "    y_pred = []\n",
    "    for file in files:\n",
    "        for time in range(n // 2, TOTAL_TIME, n):\n",
    "            y = {\n",
    "                'file_name': file,\n",
    "                'event_type': 'удар по воротам',\n",
    "                'event_time': time\n",
    "            }\n",
    "            y_pred.append(y)\n",
    "        \n",
    "        y = {\n",
    "            'file_name': file,\n",
    "            'event_type': 'замена',\n",
    "            'event_time': 45 * 60\n",
    "        }\n",
    "        y_pred.append(y)\n",
    "    return pd.DataFrame(y_pred)"
   ]
  },
  {
   "cell_type": "code",
   "execution_count": 20,
   "metadata": {},
   "outputs": [
    {
     "name": "stdout",
     "output_type": "stream",
     "text": [
      "task_score: true_positives=407 false_positives=793 false_negatives=69\n",
      "task_score: empty y_pred\n",
      "task_score: true_positives=9 false_positives=15 false_negatives=121\n",
      "task_score: empty y_pred\n",
      "task_score: empty y_pred\n"
     ]
    },
    {
     "data": {
      "text/plain": [
       "0.07655878916333796"
      ]
     },
     "execution_count": 20,
     "metadata": {},
     "output_type": "execute_result"
    }
   ],
   "source": [
    "y_pred = gen_prediction_every_n_best_plus_replace(FILES, 120)\n",
    "score = task_score(data, y_pred)\n",
    "score"
   ]
  },
  {
   "cell_type": "code",
   "execution_count": null,
   "metadata": {
    "collapsed": true
   },
   "outputs": [],
   "source": []
  },
  {
   "cell_type": "code",
   "execution_count": null,
   "metadata": {
    "collapsed": true
   },
   "outputs": [],
   "source": []
  }
 ],
 "metadata": {
  "kernelspec": {
   "display_name": "Python [conda env:anaconda3]",
   "language": "python",
   "name": "conda-env-anaconda3-py"
  },
  "language_info": {
   "codemirror_mode": {
    "name": "ipython",
    "version": 3
   },
   "file_extension": ".py",
   "mimetype": "text/x-python",
   "name": "python",
   "nbconvert_exporter": "python",
   "pygments_lexer": "ipython3",
   "version": "3.6.4"
  }
 },
 "nbformat": 4,
 "nbformat_minor": 2
}
