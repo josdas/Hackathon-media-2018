{
 "cells": [
  {
   "cell_type": "code",
   "execution_count": 9,
   "metadata": {
    "collapsed": true
   },
   "outputs": [],
   "source": [
    "import sys\n",
    "sys.path.insert(0, r'../..')"
   ]
  },
  {
   "cell_type": "code",
   "execution_count": 22,
   "metadata": {
    "collapsed": true
   },
   "outputs": [],
   "source": [
    "%matplotlib inline\n",
    "import warnings\n",
    "warnings.filterwarnings('ignore')\n",
    "from matplotlib import pyplot as plt\n",
    "import seaborn as sns\n",
    "import pandas as pd\n",
    "import pandas_profiling\n",
    "import numpy as np"
   ]
  },
  {
   "cell_type": "code",
   "execution_count": 103,
   "metadata": {
    "collapsed": true
   },
   "outputs": [],
   "source": [
    "from lib.scoring import task_score\n",
    "from lib.utils import convert_time"
   ]
  },
  {
   "cell_type": "code",
   "execution_count": 14,
   "metadata": {
    "collapsed": true
   },
   "outputs": [],
   "source": [
    "DATA_PATH = '../../data/train/events_data.csv'"
   ]
  },
  {
   "cell_type": "code",
   "execution_count": 92,
   "metadata": {
    "collapsed": true
   },
   "outputs": [],
   "source": [
    "EVENTS_TYPE = ['удар по воротам', 'угловой', 'замена', 'желтая карточка', 'гол']\n",
    "EVENTS_COUNTS = [0.502, 0.223, 0.137, 0.09, 0.048]\n",
    "TOTAL_TIME = 6000"
   ]
  },
  {
   "cell_type": "code",
   "execution_count": 93,
   "metadata": {
    "collapsed": true
   },
   "outputs": [],
   "source": [
    "data = pd.read_csv(DATA_PATH) "
   ]
  },
  {
   "cell_type": "code",
   "execution_count": 104,
   "metadata": {
    "collapsed": true
   },
   "outputs": [],
   "source": [
    "data['event_time'] = data['event_time'].apply(convert_time)"
   ]
  },
  {
   "cell_type": "code",
   "execution_count": 98,
   "metadata": {
    "collapsed": true
   },
   "outputs": [],
   "source": [
    "FILES = data['file_name'].unique()"
   ]
  },
  {
   "cell_type": "code",
   "execution_count": 101,
   "metadata": {
    "collapsed": true
   },
   "outputs": [],
   "source": [
    "def gen_prediction_every_n_rand(files, n):\n",
    "    y_pred = []\n",
    "    for file in files:\n",
    "        for time in range(n // 2, TOTAL_TIME, n):\n",
    "            y = {\n",
    "                'file_name': file,\n",
    "                'event_type': np.random.choice(EVENTS_TYPE, p=EVENTS_COUNTS),\n",
    "                'event_time': time\n",
    "            }\n",
    "            y_pred.append(y)\n",
    "    return pd.DataFrame(y_pred)"
   ]
  },
  {
   "cell_type": "code",
   "execution_count": 112,
   "metadata": {},
   "outputs": [
    {
     "name": "stdout",
     "output_type": "stream",
     "text": [
      "n=30 score=0.12725490196078432\n",
      "n=60 score=0.15802213001383125\n",
      "n=120 score=0.1449120937666489\n",
      "n=200 score=0.10092348284960422\n",
      "n=360 score=0.0761300555114988\n",
      "n=600 score=0.053144375553587246\n",
      "Best: 0.15802213001383125\n"
     ]
    }
   ],
   "source": [
    "best = 0\n",
    "for n in [30, 60, 120, 200, 360, 600]:\n",
    "    y_pred = gen_prediction_every_n_rand(FILES, n)\n",
    "    score = task_score(data, y_pred)\n",
    "    best = max(best, score)\n",
    "    print(f'n={n} score={score}')\n",
    "print('Best:', best)"
   ]
  },
  {
   "cell_type": "code",
   "execution_count": 113,
   "metadata": {
    "collapsed": true
   },
   "outputs": [],
   "source": [
    "def gen_prediction_every_n_best(files, n):\n",
    "    y_pred = []\n",
    "    for file in files:\n",
    "        for time in range(n // 2, TOTAL_TIME, n):\n",
    "            y = {\n",
    "                'file_name': file,\n",
    "                'event_type': 'удар по воротам',\n",
    "                'event_time': time\n",
    "            }\n",
    "            y_pred.append(y)\n",
    "    return pd.DataFrame(y_pred)"
   ]
  },
  {
   "cell_type": "code",
   "execution_count": 124,
   "metadata": {},
   "outputs": [
    {
     "name": "stdout",
     "output_type": "stream",
     "text": [
      "n=30 score=0.09027119286933434\n",
      "n=60 score=0.1644645340751043\n",
      "n=120 score=0.2336394948335247\n",
      "n=200 score=0.16794961511546536\n",
      "n=360 score=0.11595394736842106\n",
      "n=600 score=0.0721370604147881\n",
      "Best: 0.2336394948335247\n"
     ]
    }
   ],
   "source": [
    "best = 0\n",
    "for n in [30, 60, 120, 200, 360, 600]:\n",
    "    y_pred = gen_prediction_every_n_best(FILES, n)\n",
    "    score = task_score(data, y_pred)\n",
    "    best = max(best, score)\n",
    "    print(f'n={n} score={score}')\n",
    "print('Best:', best)"
   ]
  },
  {
   "cell_type": "code",
   "execution_count": 119,
   "metadata": {
    "collapsed": true
   },
   "outputs": [],
   "source": [
    "def gen_prediction_every_n_two_best(files, n):\n",
    "    y_pred = []\n",
    "    for file in files:\n",
    "        for time in range(n // 2, TOTAL_TIME, n):\n",
    "            y = {\n",
    "                'file_name': file,\n",
    "                'event_type': 'удар по воротам',\n",
    "                'event_time': time\n",
    "            }\n",
    "            y_pred.append(y)\n",
    "            y = {\n",
    "                'file_name': file,\n",
    "                'event_type': 'угловой',\n",
    "                'event_time': time\n",
    "            }\n",
    "            y_pred.append(y)\n",
    "    return pd.DataFrame(y_pred)"
   ]
  },
  {
   "cell_type": "code",
   "execution_count": 121,
   "metadata": {},
   "outputs": [
    {
     "name": "stdout",
     "output_type": "stream",
     "text": [
      "n=30 score=0.0697698002231011\n",
      "n=60 score=0.13504442250740376\n",
      "n=120 score=0.21560798548094373\n",
      "n=200 score=0.17222767419038273\n",
      "n=360 score=0.12923864363403711\n",
      "n=600 score=0.08834729626808835\n",
      "Best: 0.21560798548094373\n"
     ]
    }
   ],
   "source": [
    "best = 0\n",
    "for n in [30, 60, 120, 200, 360, 600]:\n",
    "    y_pred = gen_prediction_every_n_two_best(FILES, n)\n",
    "    score = task_score(data, y_pred)\n",
    "    best = max(best, score)\n",
    "    print(f'n={n} score={score}')\n",
    "print('Best:', best)"
   ]
  },
  {
   "cell_type": "code",
   "execution_count": 116,
   "metadata": {
    "collapsed": true
   },
   "outputs": [],
   "source": [
    "def gen_prediction_rand_n_best(files, n):\n",
    "    y_pred = []\n",
    "    for file in files:\n",
    "        for i in range(n):\n",
    "            y = {\n",
    "                'file_name': file,\n",
    "                'event_type': 'удар по воротам',\n",
    "                'event_time': np.random.randint(TOTAL_TIME)\n",
    "            }\n",
    "            y_pred.append(y)\n",
    "    return pd.DataFrame(y_pred)"
   ]
  },
  {
   "cell_type": "code",
   "execution_count": 118,
   "metadata": {},
   "outputs": [
    {
     "name": "stdout",
     "output_type": "stream",
     "text": [
      "n=10 score=0.06350626118067978\n",
      "n=30 score=0.12314939434724091\n",
      "n=40 score=0.13495838287752676\n",
      "n=60 score=0.14470531863919503\n",
      "n=100 score=0.1344850948509485\n",
      "Best: 0.14470531863919503\n"
     ]
    }
   ],
   "source": [
    "best = 0\n",
    "for n in [10, 30, 40, 60, 100]:\n",
    "    y_pred = gen_prediction_rand_n_best(FILES, n)\n",
    "    score = task_score(data, y_pred)\n",
    "    best = max(best, score)\n",
    "    print(f'n={n} score={score}')\n",
    "print('Best:', best)"
   ]
  },
  {
   "cell_type": "code",
   "execution_count": 127,
   "metadata": {},
   "outputs": [
    {
     "name": "stdout",
     "output_type": "stream",
     "text": [
      "удар по воротам 0.5015806111696522\n",
      "угловой 0.22339304531085352\n",
      "замена 0.136986301369863\n",
      "желтая карточка 0.08956796628029505\n",
      "гол 0.04847207586933614\n"
     ]
    }
   ],
   "source": [
    "for event_type in EVENTS_TYPE:\n",
    "    y_pred = data[data['event_type'] == event_type]\n",
    "    print(event_type, task_score(data, y_pred))"
   ]
  },
  {
   "cell_type": "code",
   "execution_count": null,
   "metadata": {
    "collapsed": true
   },
   "outputs": [],
   "source": []
  }
 ],
 "metadata": {
  "kernelspec": {
   "display_name": "Python [conda env:anaconda3]",
   "language": "python",
   "name": "conda-env-anaconda3-py"
  },
  "language_info": {
   "codemirror_mode": {
    "name": "ipython",
    "version": 3
   },
   "file_extension": ".py",
   "mimetype": "text/x-python",
   "name": "python",
   "nbconvert_exporter": "python",
   "pygments_lexer": "ipython3",
   "version": "3.6.4"
  }
 },
 "nbformat": 4,
 "nbformat_minor": 2
}
